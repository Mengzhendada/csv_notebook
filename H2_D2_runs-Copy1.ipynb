{
 "cells": [
  {
   "cell_type": "code",
   "execution_count": 1,
   "id": "26d216fd",
   "metadata": {},
   "outputs": [],
   "source": [
    "import matplotlib.pyplot as plt\n",
    "import numpy as np\n",
    "import pandas as pd\n",
    "a_rho = -1"
   ]
  },
  {
   "cell_type": "code",
   "execution_count": 2,
   "id": "f60adc12",
   "metadata": {
    "scrolled": true
   },
   "outputs": [
    {
     "name": "stdout",
     "output_type": "stream",
     "text": [
      "[]\n",
      "[]\n",
      "[]\n"
     ]
    }
   ],
   "source": [
    "Q2s = [4,4.75,5.5]\n",
    "colors = ['b','m','r','k']\n",
    "\n",
    "df = pd.read_csv(\"results/csv.csv\")\n",
    "df.head()\n",
    "for Q2 in Q2s:\n",
    "    xbjs = df[df['Q2']==Q2]['xbj_set'].unique()\n",
    "    print(xbjs)\n",
    "    for xbj in xbjs:\n",
    "        zs = df[df['Q2']==Q2][df['xbj']==xbj]['z_set'].unique()\n",
    "        fig = plt.figure()\n",
    "        i_color = 0\n",
    "        for z in zs:\n",
    "            row = df[df['xbj'] == xbj][df['Q2']==Q2][df['z']==z]\n",
    "            y_neg_D2 = row['yield_neg']\n",
    "            y_pos_D2 = row['yield_pos']\n",
    "            z_axis = row['zi']\n",
    "            y_D2_diff = y_pos_D2-y_neg_D2\n",
    "            y_D2_sum = y_pos_D2+y_neg_D2\n",
    "            D2_ratio = y_D2_diff/y_D2_sum\n",
    "            \n",
    "            err_neg_D2 = row['error_neg']\n",
    "            err_pos_D2 = row['error_pos']\n",
    "\n",
    "            err_diff_D2 = np.sqrt(err_neg_D2**2+err_pos_D2**2)\n",
    "            err_sum_D2 = np.sqrt(err_neg_D2**2+err_pos_D2**2)\n",
    "\n",
    "            err_D2_ratio = D2_ratio*np.sqrt(err_diff_D2**2/y_D2_diff**2+err_sum_D2**2/y_D2_sum**2)\n",
    "\n",
    "\n",
    "            #plt.plot(z_axis_1,sum_ratio_1,'bo',label = 'z = 0.4')\n",
    "            plt.errorbar(z_axis,D2_ratio,err_D2_ratio,color = colors[i_color],fmt = 'o',label = f'z = {z}')\n",
    "            i_color = i_color+1\n",
    "\n",
    "\n",
    "\n",
    "        \n",
    "        plt.title(f'$x = {xbj},Q^2 = {Q2}$')\n",
    "        plt.xlabel('z')\n",
    "        plt.ylabel(r'$\\frac{Y_d^{\\pi^+}-Y_d^{\\pi^-}}{Y_d^{\\pi^+}+Y_d^{\\pi^-}}$')\n",
    "        plt.ylim(-0.2,0.4)\n",
    "        plt.legend()\n",
    "        plt.savefig(f\"results/H2D2runs/D2_diffsum_x{xbj}Q{Q2}_datadeltaexc.pdf\")\n",
    "\n",
    "\n"
   ]
  }
 ],
 "metadata": {
  "kernelspec": {
   "display_name": "Python 3 (ipykernel)",
   "language": "python",
   "name": "python3"
  },
  "language_info": {
   "codemirror_mode": {
    "name": "ipython",
    "version": 3
   },
   "file_extension": ".py",
   "mimetype": "text/x-python",
   "name": "python",
   "nbconvert_exporter": "python",
   "pygments_lexer": "ipython3",
   "version": "3.9.6"
  }
 },
 "nbformat": 4,
 "nbformat_minor": 5
}
