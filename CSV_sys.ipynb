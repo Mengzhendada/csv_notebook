{
 "cells": [
  {
   "cell_type": "code",
   "execution_count": 1,
   "id": "afe82f91",
   "metadata": {
    "scrolled": true
   },
   "outputs": [
    {
     "data": {
      "text/html": [
       "<div>\n",
       "<style scoped>\n",
       "    .dataframe tbody tr th:only-of-type {\n",
       "        vertical-align: middle;\n",
       "    }\n",
       "\n",
       "    .dataframe tbody tr th {\n",
       "        vertical-align: top;\n",
       "    }\n",
       "\n",
       "    .dataframe thead th {\n",
       "        text-align: right;\n",
       "    }\n",
       "</style>\n",
       "<table border=\"1\" class=\"dataframe\">\n",
       "  <thead>\n",
       "    <tr style=\"text-align: right;\">\n",
       "      <th></th>\n",
       "      <th>Q2</th>\n",
       "      <th>xbj</th>\n",
       "      <th>xbj_corr</th>\n",
       "      <th>rho_coe</th>\n",
       "      <th>CSV</th>\n",
       "      <th>CSV_err</th>\n",
       "    </tr>\n",
       "  </thead>\n",
       "  <tbody>\n",
       "    <tr>\n",
       "      <th>count</th>\n",
       "      <td>51.000000</td>\n",
       "      <td>51.000000</td>\n",
       "      <td>51.000000</td>\n",
       "      <td>51.0</td>\n",
       "      <td>51.000000</td>\n",
       "      <td>51.000000</td>\n",
       "    </tr>\n",
       "    <tr>\n",
       "      <th>mean</th>\n",
       "      <td>4.705882</td>\n",
       "      <td>0.489706</td>\n",
       "      <td>0.489233</td>\n",
       "      <td>-1.0</td>\n",
       "      <td>0.084155</td>\n",
       "      <td>0.040814</td>\n",
       "    </tr>\n",
       "    <tr>\n",
       "      <th>std</th>\n",
       "      <td>0.607672</td>\n",
       "      <td>0.087917</td>\n",
       "      <td>0.081216</td>\n",
       "      <td>0.0</td>\n",
       "      <td>0.076416</td>\n",
       "      <td>0.020713</td>\n",
       "    </tr>\n",
       "    <tr>\n",
       "      <th>min</th>\n",
       "      <td>4.000000</td>\n",
       "      <td>0.325000</td>\n",
       "      <td>0.334279</td>\n",
       "      <td>-1.0</td>\n",
       "      <td>-0.062720</td>\n",
       "      <td>0.018423</td>\n",
       "    </tr>\n",
       "    <tr>\n",
       "      <th>25%</th>\n",
       "      <td>4.000000</td>\n",
       "      <td>0.425000</td>\n",
       "      <td>0.433861</td>\n",
       "      <td>-1.0</td>\n",
       "      <td>0.033806</td>\n",
       "      <td>0.027977</td>\n",
       "    </tr>\n",
       "    <tr>\n",
       "      <th>50%</th>\n",
       "      <td>4.750000</td>\n",
       "      <td>0.475000</td>\n",
       "      <td>0.486372</td>\n",
       "      <td>-1.0</td>\n",
       "      <td>0.090942</td>\n",
       "      <td>0.031085</td>\n",
       "    </tr>\n",
       "    <tr>\n",
       "      <th>75%</th>\n",
       "      <td>5.500000</td>\n",
       "      <td>0.575000</td>\n",
       "      <td>0.564094</td>\n",
       "      <td>-1.0</td>\n",
       "      <td>0.121618</td>\n",
       "      <td>0.051303</td>\n",
       "    </tr>\n",
       "    <tr>\n",
       "      <th>max</th>\n",
       "      <td>5.500000</td>\n",
       "      <td>0.625000</td>\n",
       "      <td>0.614328</td>\n",
       "      <td>-1.0</td>\n",
       "      <td>0.290667</td>\n",
       "      <td>0.096553</td>\n",
       "    </tr>\n",
       "  </tbody>\n",
       "</table>\n",
       "</div>"
      ],
      "text/plain": [
       "              Q2        xbj   xbj_corr  rho_coe        CSV    CSV_err\n",
       "count  51.000000  51.000000  51.000000     51.0  51.000000  51.000000\n",
       "mean    4.705882   0.489706   0.489233     -1.0   0.084155   0.040814\n",
       "std     0.607672   0.087917   0.081216      0.0   0.076416   0.020713\n",
       "min     4.000000   0.325000   0.334279     -1.0  -0.062720   0.018423\n",
       "25%     4.000000   0.425000   0.433861     -1.0   0.033806   0.027977\n",
       "50%     4.750000   0.475000   0.486372     -1.0   0.090942   0.031085\n",
       "75%     5.500000   0.575000   0.564094     -1.0   0.121618   0.051303\n",
       "max     5.500000   0.625000   0.614328     -1.0   0.290667   0.096553"
      ]
     },
     "execution_count": 1,
     "metadata": {},
     "output_type": "execute_result"
    }
   ],
   "source": [
    "import numpy as np\n",
    "import matplotlib.pyplot as plt\n",
    "\n",
    "import pandas as pd\n",
    "df = pd.read_csv(\"results/csv_systematic.txt\")\n",
    "df = df[df['CSV_err']<0.1]\n",
    "df.describe()\n"
   ]
  },
  {
   "cell_type": "code",
   "execution_count": 2,
   "id": "fce7d264",
   "metadata": {},
   "outputs": [
    {
     "name": "stdout",
     "output_type": "stream",
     "text": [
      "[0.325 0.375 0.425 0.475 0.525 0.575]\n",
      "[0.23400707098803916, 0.16360296398243854, 0.18822510390331618, 0.1074327711920874, 0.092924472628161, 0.0013945398450457339]\n",
      "[0.0715284375054263, 0.03886145406259473, 0.03084771443394217, 0.0306742052193969, 0.04982179863820257, 0.09319528913053467]\n",
      "[0.050657038108462546, 0.03474870600041502, 0.021160874299184083, 0.015133727876245801, 0.015568965177851139, 0.015764204301532664]\n"
     ]
    },
    {
     "name": "stderr",
     "output_type": "stream",
     "text": [
      "/var/folders/ll/8_2_l77j4yl2zjb6stl8d9b00000gn/T/ipykernel_72440/196068068.py:9: UserWarning: Boolean Series key will be reindexed to match DataFrame index.\n",
      "  CSVs = df[df['Q2']==4][df['xbj']==ix]['CSV']\n",
      "/var/folders/ll/8_2_l77j4yl2zjb6stl8d9b00000gn/T/ipykernel_72440/196068068.py:12: UserWarning: Boolean Series key will be reindexed to match DataFrame index.\n",
      "  CSVs_errs = df[df['Q2']==4][df['xbj']==ix]['CSV_err']\n"
     ]
    }
   ],
   "source": [
    "import statistics \n",
    "xs_one = df[df['Q2']==4].sort_values('xbj')['xbj'].unique()\n",
    "\n",
    "CSV_one = []\n",
    "CSV_one_stat = []\n",
    "CSV_one_sys = []\n",
    "\n",
    "for ix in xs_one:\n",
    "    CSVs = df[df['Q2']==4][df['xbj']==ix]['CSV']\n",
    "    mean = statistics.mean(CSVs)\n",
    "    std = statistics.stdev(CSVs)\n",
    "    CSVs_errs = df[df['Q2']==4][df['xbj']==ix]['CSV_err']\n",
    "    err_mean = statistics.mean(CSVs_errs)\n",
    "    #print(mean)\n",
    "    #print(std)\n",
    "    CSV_one.append(mean)\n",
    "    CSV_one_stat.append(err_mean)\n",
    "    CSV_one_sys.append(std)\n",
    "print(xs_one)\n",
    "print(CSV_one)\n",
    "print(CSV_one_stat)\n",
    "print(CSV_one_sys)"
   ]
  },
  {
   "cell_type": "code",
   "execution_count": 3,
   "id": "ed04ddb5",
   "metadata": {},
   "outputs": [],
   "source": [
    "\n",
    "def delta_udv(parameter):\n",
    "    #x = np.arange(0.2,0.7,0.01)\n",
    "    x = np.linspace(0.2,0.7,50)\n",
    "    return parameter*(1-x)**4*x**-0.5*(x-0.0909)\n",
    "#x_axis = np.arange(0.2,0.7,0.01)\n",
    "x_axis = np.linspace(0.2,0.7,50)\n",
    "y_delta_uv = delta_udv(-0.2)\n",
    "y_delta_dv = delta_udv(0.2)\n",
    "y_delta_uv_up = delta_udv(0.8)\n",
    "y_delta_uv_low = delta_udv(-0.8)\n",
    "y_delta_dv_up = delta_udv(-0.65)\n",
    "y_delta_dv_low = delta_udv(0.65)"
   ]
  },
  {
   "cell_type": "code",
   "execution_count": 4,
   "id": "d9f219cf",
   "metadata": {
    "scrolled": false
   },
   "outputs": [
    {
     "data": {
      "text/plain": [
       "<matplotlib.collections.PolyCollection at 0x1281a6910>"
      ]
     },
     "execution_count": 4,
     "metadata": {},
     "output_type": "execute_result"
    },
    {
     "data": {
      "image/png": "[encoded data removed]",
      "text/plain": [
       "<Figure size 432x288 with 1 Axes>"
      ]
     },
     "metadata": {
      "needs_background": "light"
     },
     "output_type": "display_data"
    }
   ],
   "source": [
    "fig, ax = plt.subplots()\n",
    "ax.fill_between(x_axis,y_delta_uv_up-y_delta_uv_low,y_delta_dv_up-y_delta_dv_low,color = 'y',alpha=.25, linewidth=0)\n",
    "ax.plot(x_axis,y_delta_dv-y_delta_uv,label = 'MRST',color = 'y')\n",
    "\n",
    "plt.errorbar(xs_one,CSV_one,CSV_one_stat,fmt = 'o',color = 'k')\n",
    "plt.fill_between(xs_one,-0.1-np.asarray(CSV_one_sys),-0.1+np.asarray(CSV_one_sys),alpha = 0.15,color = 'k')"
   ]
  },
  {
   "cell_type": "code",
   "execution_count": 5,
   "id": "3f4cee67",
   "metadata": {
    "scrolled": true
   },
   "outputs": [
    {
     "name": "stdout",
     "output_type": "stream",
     "text": [
      "[0.375 0.425 0.475 0.525 0.575 0.625]\n",
      "[-0.04229507250984346, 0.11395128228668668, 0.12948665772188012, 0.10870831898371193, 0.06470580852985253, -0.052927647035290896]\n",
      "[0.05008385216339736, 0.02996896182568933, 0.021471428418482333, 0.020807469312799868, 0.030313268974533, 0.06252962488798507]\n",
      "[0.03397244463006208, 0.029160576415029876, 0.01920332078563571, 0.014639938948691226, 0.011007007491127818, 0.012610964078941196]\n"
     ]
    },
    {
     "name": "stderr",
     "output_type": "stream",
     "text": [
      "/var/folders/ll/8_2_l77j4yl2zjb6stl8d9b00000gn/T/ipykernel_72440/2934777639.py:9: UserWarning: Boolean Series key will be reindexed to match DataFrame index.\n",
      "  CSVs = df[df['Q2']==4.75][df['xbj']==ix]['CSV']\n",
      "/var/folders/ll/8_2_l77j4yl2zjb6stl8d9b00000gn/T/ipykernel_72440/2934777639.py:12: UserWarning: Boolean Series key will be reindexed to match DataFrame index.\n",
      "  CSVs_errs = df[df['Q2']==4.75][df['xbj']==ix]['CSV_err']\n"
     ]
    }
   ],
   "source": [
    "import statistics \n",
    "xs_two = df[df['Q2']==4.75].sort_values('xbj')['xbj'].unique()\n",
    "\n",
    "CSV_two = []\n",
    "CSV_two_stat = []\n",
    "CSV_two_sys = []\n",
    "\n",
    "for ix in xs_two:\n",
    "    CSVs = df[df['Q2']==4.75][df['xbj']==ix]['CSV']\n",
    "    mean = statistics.mean(CSVs)\n",
    "    std = statistics.stdev(CSVs)\n",
    "    CSVs_errs = df[df['Q2']==4.75][df['xbj']==ix]['CSV_err']\n",
    "    err_mean = statistics.mean(CSVs_errs)\n",
    "    #print(mean)\n",
    "    #print(std)\n",
    "    CSV_two.append(mean)\n",
    "    CSV_two_stat.append(err_mean)\n",
    "    CSV_two_sys.append(std)\n",
    "print(xs_two)\n",
    "print(CSV_two)\n",
    "print(CSV_two_stat)\n",
    "print(CSV_two_sys)"
   ]
  },
  {
   "cell_type": "code",
   "execution_count": 6,
   "id": "28257a7a",
   "metadata": {
    "scrolled": true
   },
   "outputs": [
    {
     "data": {
      "text/plain": [
       "<matplotlib.collections.PolyCollection at 0x1285aa400>"
      ]
     },
     "execution_count": 6,
     "metadata": {},
     "output_type": "execute_result"
    },
    {
     "data": {
      "image/png": "[encoded data removed]",
      "text/plain": [
       "<Figure size 432x288 with 1 Axes>"
      ]
     },
     "metadata": {
      "needs_background": "light"
     },
     "output_type": "display_data"
    }
   ],
   "source": [
    "fig, ax = plt.subplots()\n",
    "ax.fill_between(x_axis,y_delta_uv_up-y_delta_uv_low,y_delta_dv_up-y_delta_dv_low,color = 'y',alpha=.25, linewidth=0)\n",
    "ax.plot(x_axis,y_delta_dv-y_delta_uv,label = 'MRST',color = 'y')\n",
    "\n",
    "plt.errorbar(xs_two,CSV_two,CSV_two_stat,fmt = 'o',color = 'm')\n",
    "plt.fill_between(xs_two,-0.1-np.asarray(CSV_two_sys),-0.1+np.asarray(CSV_two_sys),alpha = 0.15,color = 'm')"
   ]
  },
  {
   "cell_type": "code",
   "execution_count": 7,
   "id": "c15c28b1",
   "metadata": {
    "scrolled": true
   },
   "outputs": [
    {
     "name": "stderr",
     "output_type": "stream",
     "text": [
      "/var/folders/ll/8_2_l77j4yl2zjb6stl8d9b00000gn/T/ipykernel_72440/4208003165.py:9: UserWarning: Boolean Series key will be reindexed to match DataFrame index.\n",
      "  CSVs = df[df['Q2']==5.5][df['xbj']==ix]['CSV']\n",
      "/var/folders/ll/8_2_l77j4yl2zjb6stl8d9b00000gn/T/ipykernel_72440/4208003165.py:12: UserWarning: Boolean Series key will be reindexed to match DataFrame index.\n",
      "  CSVs_errs = df[df['Q2']==5.5][df['xbj']==ix]['CSV_err']\n"
     ]
    },
    {
     "name": "stdout",
     "output_type": "stream",
     "text": [
      "[0.425 0.475 0.525 0.575 0.625]\n",
      "[0.05610228771230796, 0.09046509172213413, 0.08337853275750903, 0.0691429889317605, 0.0223356173879483]\n",
      "[0.06215807602622927, 0.0281760696641333, 0.01882405469289423, 0.019177930457803635, 0.03540357407200523]\n",
      "[0.04027963113048234, 0.014787539009489157, 0.01320090519128285, 0.010107936688675703, 0.009562214787218835]\n"
     ]
    }
   ],
   "source": [
    "import statistics \n",
    "xs_three = df[df['Q2']==5.5].sort_values('xbj')['xbj'].unique()\n",
    "\n",
    "CSV_three = []\n",
    "CSV_three_stat = []\n",
    "CSV_three_sys = []\n",
    "\n",
    "for ix in xs_three:\n",
    "    CSVs = df[df['Q2']==5.5][df['xbj']==ix]['CSV']\n",
    "    mean = statistics.mean(CSVs)\n",
    "    std = statistics.stdev(CSVs)\n",
    "    CSVs_errs = df[df['Q2']==5.5][df['xbj']==ix]['CSV_err']\n",
    "    err_mean = statistics.mean(CSVs_errs)\n",
    "    #print(mean)\n",
    "    #print(std)\n",
    "    CSV_three.append(mean)\n",
    "    CSV_three_stat.append(err_mean)\n",
    "    CSV_three_sys.append(std)\n",
    "print(xs_three)\n",
    "print(CSV_three)\n",
    "print(CSV_three_stat)\n",
    "print(CSV_three_sys)"
   ]
  },
  {
   "cell_type": "code",
   "execution_count": 8,
   "id": "edbdcfd5",
   "metadata": {},
   "outputs": [
    {
     "data": {
      "text/plain": [
       "<matplotlib.collections.PolyCollection at 0x1287391c0>"
      ]
     },
     "execution_count": 8,
     "metadata": {},
     "output_type": "execute_result"
    },
    {
     "data": {
      "image/png": "[encoded data removed]",
      "text/plain": [
       "<Figure size 432x288 with 1 Axes>"
      ]
     },
     "metadata": {
      "needs_background": "light"
     },
     "output_type": "display_data"
    }
   ],
   "source": [
    "fig, ax = plt.subplots()\n",
    "ax.fill_between(x_axis,y_delta_uv_up-y_delta_uv_low,y_delta_dv_up-y_delta_dv_low,color = 'y',alpha=.25, linewidth=0)\n",
    "ax.plot(x_axis,y_delta_dv-y_delta_uv,label = 'MRST',color = 'y')\n",
    "\n",
    "plt.errorbar(xs_three,CSV_three,CSV_three_stat,fmt = 'o',color = 'b')\n",
    "plt.fill_between(xs_three,-0.1-np.asarray(CSV_three_sys),-0.1+np.asarray(CSV_three_sys),alpha = 0.15,color = 'b')"
   ]
  },
  {
   "cell_type": "code",
   "execution_count": 9,
   "id": "f2657b35",
   "metadata": {},
   "outputs": [
    {
     "data": {
      "image/png": "[encoded data removed]",
      "text/plain": [
       "<Figure size 432x288 with 1 Axes>"
      ]
     },
     "metadata": {
      "needs_background": "light"
     },
     "output_type": "display_data"
    }
   ],
   "source": [
    "fig, ax = plt.subplots()\n",
    "ax.fill_between(x_axis,y_delta_uv_up-y_delta_uv_low,y_delta_dv_up-y_delta_dv_low,color = 'y',alpha=.25, linewidth=0)\n",
    "ax.plot(x_axis,y_delta_dv-y_delta_uv,label = 'MRST',color = 'y')\n",
    "\n",
    "plt.errorbar(xs_one,CSV_one,CSV_one_stat,fmt = 'o',color = 'k',label = r'$Q^2 = 4GeV^2$')\n",
    "plt.fill_between(xs_one,-0.1-np.asarray(CSV_one_sys),-0.1+np.asarray(CSV_one_sys),alpha = 0.15,color = 'k')\n",
    "\n",
    "plt.errorbar(xs_two,CSV_two,CSV_two_stat,fmt = 'o',color = 'm',label = r'$Q^2 = 4.75GeV^2$')\n",
    "plt.fill_between(xs_two,-0.1-np.asarray(CSV_two_sys),-0.1+np.asarray(CSV_two_sys),alpha = 0.15,color = 'm')\n",
    "\n",
    "plt.errorbar(xs_three,CSV_three,CSV_three_stat,fmt = 'o',color = 'b',label = r'$Q^2 = 5.5GeV^2$')\n",
    "plt.fill_between(xs_three,-0.1-np.asarray(CSV_three_sys),-0.1+np.asarray(CSV_three_sys),alpha = 0.15,color = 'b')\n",
    "\n",
    "plt.xlabel('x')\n",
    "plt.ylabel('CSV')\n",
    "plt.legend()\n",
    "plt.legend(title = 'sys err from FFs')\n",
    "plt.savefig('results/CSV_sys_err_from_FFs.pdf')"
   ]
  },
  {
   "cell_type": "code",
   "execution_count": null,
   "id": "a3981886",
   "metadata": {},
   "outputs": [],
   "source": []
  },
  {
   "cell_type": "code",
   "execution_count": null,
   "id": "8f674430",
   "metadata": {},
   "outputs": [],
   "source": []
  }
 ],
 "metadata": {
  "kernelspec": {
   "display_name": "Python 3 (ipykernel)",
   "language": "python",
   "name": "python3"
  },
  "language_info": {
   "codemirror_mode": {
    "name": "ipython",
    "version": 3
   },
   "file_extension": ".py",
   "mimetype": "text/x-python",
   "name": "python",
   "nbconvert_exporter": "python",
   "pygments_lexer": "ipython3",
   "version": "3.9.6"
  }
 },
 "nbformat": 4,
 "nbformat_minor": 5
}
