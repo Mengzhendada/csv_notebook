{
 "cells": [
  {
   "cell_type": "code",
   "execution_count": 1,
   "id": "afe82f91",
   "metadata": {
    "scrolled": false
   },
   "outputs": [
    {
     "data": {
      "text/html": [
       "<div>\n",
       "<style scoped>\n",
       "    .dataframe tbody tr th:only-of-type {\n",
       "        vertical-align: middle;\n",
       "    }\n",
       "\n",
       "    .dataframe tbody tr th {\n",
       "        vertical-align: top;\n",
       "    }\n",
       "\n",
       "    .dataframe thead th {\n",
       "        text-align: right;\n",
       "    }\n",
       "</style>\n",
       "<table border=\"1\" class=\"dataframe\">\n",
       "  <thead>\n",
       "    <tr style=\"text-align: right;\">\n",
       "      <th></th>\n",
       "      <th>Q2</th>\n",
       "      <th>xbj</th>\n",
       "      <th>xbj_corr</th>\n",
       "      <th>rho_coe</th>\n",
       "      <th>CSV</th>\n",
       "      <th>CSV_err</th>\n",
       "    </tr>\n",
       "  </thead>\n",
       "  <tbody>\n",
       "    <tr>\n",
       "      <th>count</th>\n",
       "      <td>360.000000</td>\n",
       "      <td>360.000000</td>\n",
       "      <td>360.000000</td>\n",
       "      <td>360.000000</td>\n",
       "      <td>360.000000</td>\n",
       "      <td>360.000000</td>\n",
       "    </tr>\n",
       "    <tr>\n",
       "      <th>mean</th>\n",
       "      <td>4.712500</td>\n",
       "      <td>0.465000</td>\n",
       "      <td>0.464719</td>\n",
       "      <td>-0.727778</td>\n",
       "      <td>0.014711</td>\n",
       "      <td>0.024950</td>\n",
       "    </tr>\n",
       "    <tr>\n",
       "      <th>std</th>\n",
       "      <td>0.604345</td>\n",
       "      <td>0.100887</td>\n",
       "      <td>0.093487</td>\n",
       "      <td>1.317889</td>\n",
       "      <td>0.065242</td>\n",
       "      <td>0.019203</td>\n",
       "    </tr>\n",
       "    <tr>\n",
       "      <th>min</th>\n",
       "      <td>4.000000</td>\n",
       "      <td>0.275000</td>\n",
       "      <td>0.287822</td>\n",
       "      <td>-1.800000</td>\n",
       "      <td>-0.242627</td>\n",
       "      <td>0.003589</td>\n",
       "    </tr>\n",
       "    <tr>\n",
       "      <th>25%</th>\n",
       "      <td>4.000000</td>\n",
       "      <td>0.375000</td>\n",
       "      <td>0.387709</td>\n",
       "      <td>-1.500000</td>\n",
       "      <td>-0.030034</td>\n",
       "      <td>0.012880</td>\n",
       "    </tr>\n",
       "    <tr>\n",
       "      <th>50%</th>\n",
       "      <td>4.750000</td>\n",
       "      <td>0.475000</td>\n",
       "      <td>0.470421</td>\n",
       "      <td>-1.500000</td>\n",
       "      <td>0.015014</td>\n",
       "      <td>0.019938</td>\n",
       "    </tr>\n",
       "    <tr>\n",
       "      <th>75%</th>\n",
       "      <td>5.500000</td>\n",
       "      <td>0.537500</td>\n",
       "      <td>0.532629</td>\n",
       "      <td>1.000000</td>\n",
       "      <td>0.064073</td>\n",
       "      <td>0.028527</td>\n",
       "    </tr>\n",
       "    <tr>\n",
       "      <th>max</th>\n",
       "      <td>5.500000</td>\n",
       "      <td>0.625000</td>\n",
       "      <td>0.614131</td>\n",
       "      <td>1.800000</td>\n",
       "      <td>0.157690</td>\n",
       "      <td>0.079212</td>\n",
       "    </tr>\n",
       "  </tbody>\n",
       "</table>\n",
       "</div>"
      ],
      "text/plain": [
       "               Q2         xbj    xbj_corr     rho_coe         CSV     CSV_err\n",
       "count  360.000000  360.000000  360.000000  360.000000  360.000000  360.000000\n",
       "mean     4.712500    0.465000    0.464719   -0.727778    0.014711    0.024950\n",
       "std      0.604345    0.100887    0.093487    1.317889    0.065242    0.019203\n",
       "min      4.000000    0.275000    0.287822   -1.800000   -0.242627    0.003589\n",
       "25%      4.000000    0.375000    0.387709   -1.500000   -0.030034    0.012880\n",
       "50%      4.750000    0.475000    0.470421   -1.500000    0.015014    0.019938\n",
       "75%      5.500000    0.537500    0.532629    1.000000    0.064073    0.028527\n",
       "max      5.500000    0.625000    0.614131    1.800000    0.157690    0.079212"
      ]
     },
     "execution_count": 1,
     "metadata": {},
     "output_type": "execute_result"
    }
   ],
   "source": [
    "import numpy as np\n",
    "import matplotlib.pyplot as plt\n",
    "\n",
    "import pandas as pd\n",
    "df = pd.read_csv(\"results/csv_systematic.txt\")\n",
    "df = df[df['CSV_err']<0.1]\n",
    "#df = df[df['rho_coe']!=1.8][df['rho_coe']!=-1]#[df['PDF_model']=='JAM20']\n",
    "#print(df['PDF_model'].unique())\n",
    "df.describe()"
   ]
  },
  {
   "cell_type": "code",
   "execution_count": 2,
   "id": "fce7d264",
   "metadata": {},
   "outputs": [
    {
     "name": "stdout",
     "output_type": "stream",
     "text": [
      "[0.28782192 0.33444932 0.37382584 0.42002944 0.46941981 0.51694167\n",
      " 0.56676958]\n",
      "[-0.026958002140542538, 0.03287816093054649, 0.06077350590649397, 0.06059100313417237, 0.045399547047715164, 0.009573851881902823, -0.008198016769935089]\n",
      "[0.04837687932542548, 0.023301972554631033, 0.017664115637918712, 0.01694446086718141, 0.019762120590087605, 0.03258449408390359, 0.05955389127416828]\n",
      "[0.06974773233930014, 0.06841332246460034, 0.0786778036662892, 0.06548785441247734, 0.05480036432124183, 0.04491073165764466, 0.017357022160135075]\n"
     ]
    },
    {
     "name": "stderr",
     "output_type": "stream",
     "text": [
      "/var/folders/ll/8_2_l77j4yl2zjb6stl8d9b00000gn/T/ipykernel_28464/1888431322.py:9: UserWarning: Boolean Series key will be reindexed to match DataFrame index.\n",
      "  CSVs = df[df['Q2']==4][df['xbj_corr']==ix]['CSV']\n",
      "/var/folders/ll/8_2_l77j4yl2zjb6stl8d9b00000gn/T/ipykernel_28464/1888431322.py:12: UserWarning: Boolean Series key will be reindexed to match DataFrame index.\n",
      "  CSVs_errs = df[df['Q2']==4][df['xbj_corr']==ix]['CSV_err']\n"
     ]
    }
   ],
   "source": [
    "import statistics \n",
    "xs_one = df[df['Q2']==4].sort_values('xbj_corr')['xbj_corr'].unique()\n",
    "\n",
    "CSV_one = []\n",
    "CSV_one_stat = []\n",
    "CSV_one_sys = []\n",
    "\n",
    "for ix in xs_one:\n",
    "    CSVs = df[df['Q2']==4][df['xbj_corr']==ix]['CSV']\n",
    "    mean = statistics.mean(CSVs)\n",
    "    std = statistics.stdev(CSVs)\n",
    "    CSVs_errs = df[df['Q2']==4][df['xbj_corr']==ix]['CSV_err']\n",
    "    err_mean = statistics.mean(CSVs_errs)\n",
    "    #print(mean)\n",
    "    #print(std)\n",
    "    CSV_one.append(mean)\n",
    "    CSV_one_stat.append(err_mean)\n",
    "    CSV_one_sys.append(std)\n",
    "print(xs_one)\n",
    "print(CSV_one)\n",
    "print(CSV_one_stat)\n",
    "print(CSV_one_sys)"
   ]
  },
  {
   "cell_type": "code",
   "execution_count": 3,
   "id": "ed04ddb5",
   "metadata": {},
   "outputs": [],
   "source": [
    "\n",
    "def delta_udv(parameter):\n",
    "    #x = np.arange(0.2,0.7,0.01)\n",
    "    x = np.linspace(0.2,0.7,50)\n",
    "    return parameter*(1-x)**4*x**-0.5*(x-0.0909)\n",
    "#x_axis = np.arange(0.2,0.7,0.01)\n",
    "x_axis = np.linspace(0.2,0.7,50)\n",
    "y_delta_uv = delta_udv(-0.2)\n",
    "y_delta_dv = delta_udv(0.2)\n",
    "y_delta_uv_up = delta_udv(0.8)\n",
    "y_delta_uv_low = delta_udv(-0.8)\n",
    "y_delta_dv_up = delta_udv(-0.65)\n",
    "y_delta_dv_low = delta_udv(0.65)"
   ]
  },
  {
   "cell_type": "code",
   "execution_count": 4,
   "id": "d9f219cf",
   "metadata": {
    "scrolled": false
   },
   "outputs": [
    {
     "data": {
      "text/plain": [
       "<matplotlib.collections.PolyCollection at 0x11e2f8d90>"
      ]
     },
     "execution_count": 4,
     "metadata": {},
     "output_type": "execute_result"
    },
    {
     "data": {
      "image/png": "[encoded data removed]",
      "text/plain": [
       "<Figure size 432x288 with 1 Axes>"
      ]
     },
     "metadata": {
      "needs_background": "light"
     },
     "output_type": "display_data"
    }
   ],
   "source": [
    "fig, ax = plt.subplots()\n",
    "ax.fill_between(x_axis,y_delta_uv_up-y_delta_uv_low,y_delta_dv_up-y_delta_dv_low,color = 'y',alpha=.25, linewidth=0)\n",
    "ax.plot(x_axis,y_delta_dv-y_delta_uv,label = 'MRST',color = 'y')\n",
    "\n",
    "plt.errorbar(xs_one,CSV_one,CSV_one_stat,fmt = 'o',color = 'k')\n",
    "plt.fill_between(xs_one,-0.1-np.asarray(CSV_one_sys),-0.1+np.asarray(CSV_one_sys),alpha = 0.15,color = 'k')"
   ]
  },
  {
   "cell_type": "code",
   "execution_count": 5,
   "id": "3f4cee67",
   "metadata": {
    "scrolled": true
   },
   "outputs": [
    {
     "name": "stdout",
     "output_type": "stream",
     "text": [
      "[0.339491   0.3861515  0.42582662 0.47142311 0.51930108 0.56819041\n",
      " 0.61413082]\n",
      "[-0.11504369842255159, 0.038662615532960215, 0.04852028146336274, 0.052907283679518774, 0.04915891812202681, 0.03020609452852679, -0.036695069820708505]\n",
      "[0.058113549017002504, 0.021086363103139327, 0.01316502655782451, 0.011228679320554671, 0.012114773181326489, 0.018370545190885466, 0.03483024699251875]\n",
      "[0.08093480944003661, 0.05705110052038263, 0.056386005684029024, 0.05705270104341463, 0.05280989825456127, 0.04289627968624421, 0.028356089260740156]\n"
     ]
    },
    {
     "name": "stderr",
     "output_type": "stream",
     "text": [
      "/var/folders/ll/8_2_l77j4yl2zjb6stl8d9b00000gn/T/ipykernel_28464/2448108693.py:9: UserWarning: Boolean Series key will be reindexed to match DataFrame index.\n",
      "  CSVs = df[df['Q2']==4.75][df['xbj_corr']==ix]['CSV']\n",
      "/var/folders/ll/8_2_l77j4yl2zjb6stl8d9b00000gn/T/ipykernel_28464/2448108693.py:12: UserWarning: Boolean Series key will be reindexed to match DataFrame index.\n",
      "  CSVs_errs = df[df['Q2']==4.75][df['xbj_corr']==ix]['CSV_err']\n"
     ]
    }
   ],
   "source": [
    "import statistics \n",
    "xs_two = df[df['Q2']==4.75].sort_values('xbj_corr')['xbj_corr'].unique()\n",
    "\n",
    "CSV_two = []\n",
    "CSV_two_stat = []\n",
    "CSV_two_sys = []\n",
    "\n",
    "for ix in xs_two:\n",
    "    CSVs = df[df['Q2']==4.75][df['xbj_corr']==ix]['CSV']\n",
    "    mean = statistics.mean(CSVs)\n",
    "    std = statistics.stdev(CSVs)\n",
    "    CSVs_errs = df[df['Q2']==4.75][df['xbj_corr']==ix]['CSV_err']\n",
    "    err_mean = statistics.mean(CSVs_errs)\n",
    "    #print(mean)\n",
    "    #print(std)\n",
    "    CSV_two.append(mean)\n",
    "    CSV_two_stat.append(err_mean)\n",
    "    CSV_two_sys.append(std)\n",
    "print(xs_two)\n",
    "print(CSV_two)\n",
    "print(CSV_two_stat)\n",
    "print(CSV_two_sys)"
   ]
  },
  {
   "cell_type": "code",
   "execution_count": 6,
   "id": "28257a7a",
   "metadata": {
    "scrolled": true
   },
   "outputs": [
    {
     "data": {
      "text/plain": [
       "<matplotlib.collections.PolyCollection at 0x11ea38f10>"
      ]
     },
     "execution_count": 6,
     "metadata": {},
     "output_type": "execute_result"
    },
    {
     "data": {
      "image/png": "[encoded data removed]",
      "text/plain": [
       "<Figure size 432x288 with 1 Axes>"
      ]
     },
     "metadata": {
      "needs_background": "light"
     },
     "output_type": "display_data"
    }
   ],
   "source": [
    "fig, ax = plt.subplots()\n",
    "ax.fill_between(x_axis,y_delta_uv_up-y_delta_uv_low,y_delta_dv_up-y_delta_dv_low,color = 'y',alpha=.25, linewidth=0)\n",
    "ax.plot(x_axis,y_delta_dv-y_delta_uv,label = 'MRST',color = 'y')\n",
    "\n",
    "plt.errorbar(xs_two,CSV_two,CSV_two_stat,fmt = 'o',color = 'm')\n",
    "plt.fill_between(xs_two,-0.1-np.asarray(CSV_two_sys),-0.1+np.asarray(CSV_two_sys),alpha = 0.15,color = 'm')"
   ]
  },
  {
   "cell_type": "code",
   "execution_count": 7,
   "id": "c15c28b1",
   "metadata": {
    "scrolled": true
   },
   "outputs": [
    {
     "name": "stdout",
     "output_type": "stream",
     "text": [
      "[0.38822829 0.43232054 0.47648507 0.52124882 0.56884832 0.61346745]\n",
      "[0.02577676027485377, -0.004634594094046028, 0.009362238644591379, 0.0399565122401013, 0.011028406638186772, -0.02904250832926559]\n",
      "[0.04597703199272112, 0.015929327912808416, 0.010705580375442255, 0.010100088957583455, 0.010894348022276694, 0.018294481385701833]\n",
      "[0.04744782287371499, 0.024946886819680467, 0.023155649567557408, 0.042729465614225644, 0.023495325883433987, 0.008266943879455188]\n"
     ]
    },
    {
     "name": "stderr",
     "output_type": "stream",
     "text": [
      "/var/folders/ll/8_2_l77j4yl2zjb6stl8d9b00000gn/T/ipykernel_28464/3192017738.py:9: UserWarning: Boolean Series key will be reindexed to match DataFrame index.\n",
      "  CSVs = df[df['Q2']==5.5][df['xbj_corr']==ix]['CSV']\n",
      "/var/folders/ll/8_2_l77j4yl2zjb6stl8d9b00000gn/T/ipykernel_28464/3192017738.py:12: UserWarning: Boolean Series key will be reindexed to match DataFrame index.\n",
      "  CSVs_errs = df[df['Q2']==5.5][df['xbj_corr']==ix]['CSV_err']\n"
     ]
    }
   ],
   "source": [
    "import statistics \n",
    "xs_three = df[df['Q2']==5.5].sort_values('xbj_corr')['xbj_corr'].unique()\n",
    "\n",
    "CSV_three = []\n",
    "CSV_three_stat = []\n",
    "CSV_three_sys = []\n",
    "\n",
    "for ix in xs_three:\n",
    "    CSVs = df[df['Q2']==5.5][df['xbj_corr']==ix]['CSV']\n",
    "    mean = statistics.mean(CSVs)\n",
    "    std = statistics.stdev(CSVs)\n",
    "    CSVs_errs = df[df['Q2']==5.5][df['xbj_corr']==ix]['CSV_err']\n",
    "    err_mean = statistics.mean(CSVs_errs)\n",
    "    #print(mean)\n",
    "    #print(std)\n",
    "    CSV_three.append(mean)\n",
    "    CSV_three_stat.append(err_mean)\n",
    "    CSV_three_sys.append(std)\n",
    "print(xs_three)\n",
    "print(CSV_three)\n",
    "print(CSV_three_stat)\n",
    "print(CSV_three_sys)"
   ]
  },
  {
   "cell_type": "code",
   "execution_count": 8,
   "id": "edbdcfd5",
   "metadata": {
    "scrolled": true
   },
   "outputs": [
    {
     "data": {
      "text/plain": [
       "<matplotlib.collections.PolyCollection at 0x11eac34c0>"
      ]
     },
     "execution_count": 8,
     "metadata": {},
     "output_type": "execute_result"
    },
    {
     "data": {
      "image/png": "[encoded data removed]",
      "text/plain": [
       "<Figure size 432x288 with 1 Axes>"
      ]
     },
     "metadata": {
      "needs_background": "light"
     },
     "output_type": "display_data"
    }
   ],
   "source": [
    "fig, ax = plt.subplots()\n",
    "ax.fill_between(x_axis,y_delta_uv_up-y_delta_uv_low,y_delta_dv_up-y_delta_dv_low,color = 'y',alpha=.25, linewidth=0)\n",
    "ax.plot(x_axis,y_delta_dv-y_delta_uv,label = 'MRST',color = 'y')\n",
    "\n",
    "plt.errorbar(xs_three,CSV_three,CSV_three_stat,fmt = 'o',color = 'b')\n",
    "plt.fill_between(xs_three,-0.1-np.asarray(CSV_three_sys),-0.1+np.asarray(CSV_three_sys),alpha = 0.15,color = 'b')"
   ]
  },
  {
   "cell_type": "code",
   "execution_count": 9,
   "id": "f2657b35",
   "metadata": {
    "scrolled": true
   },
   "outputs": [
    {
     "data": {
      "image/png": "[encoded data removed]",
      "text/plain": [
       "<Figure size 432x288 with 1 Axes>"
      ]
     },
     "metadata": {
      "needs_background": "light"
     },
     "output_type": "display_data"
    }
   ],
   "source": [
    "fig, ax = plt.subplots()\n",
    "ax.fill_between(x_axis,y_delta_uv_up-y_delta_uv_low,y_delta_dv_up-y_delta_dv_low,color = 'y',alpha=.25, linewidth=0)\n",
    "ax.plot(x_axis,y_delta_dv-y_delta_uv,label = 'MRST',color = 'y')\n",
    "\n",
    "plt.errorbar(xs_one,CSV_one,CSV_one_stat,fmt = 'o',color = 'k',label = r'$Q^2 = 4GeV^2$')\n",
    "plt.fill_between(xs_one,-0.1-np.asarray(CSV_one_sys),-0.1+np.asarray(CSV_one_sys),alpha = 0.15,color = 'k')\n",
    "\n",
    "plt.errorbar(xs_two,CSV_two,CSV_two_stat,fmt = 'o',color = 'm',label = r'$Q^2 = 4.75GeV^2$')\n",
    "plt.fill_between(xs_two,-0.1-np.asarray(CSV_two_sys),-0.1+np.asarray(CSV_two_sys),alpha = 0.15,color = 'm')\n",
    "\n",
    "plt.errorbar(xs_three,CSV_three,CSV_three_stat,fmt = 'o',color = 'b',label = r'$Q^2 = 5.5GeV^2$')\n",
    "plt.fill_between(xs_three,-0.1-np.asarray(CSV_three_sys),-0.1+np.asarray(CSV_three_sys),alpha = 0.15,color = 'b')\n",
    "\n",
    "plt.xlabel('x')\n",
    "plt.ylabel('CSV')\n",
    "plt.ylim(-0.2,0.35)\n",
    "plt.legend()\n",
    "#plt.legend(title = 'sys err from all')\n",
    "plt.savefig('results/CSV_sys_err_from_all.pdf')\n",
    "#plt.savefig('results/CSV_sys_err_from_PDFs.pdf')\n",
    "#plt.legend(title = 'sys err from FFs')\n",
    "#plt.savefig('results/CSV_sys_err_from_FFs.pdf')"
   ]
  },
  {
   "cell_type": "code",
   "execution_count": null,
   "id": "a3981886",
   "metadata": {},
   "outputs": [],
   "source": []
  },
  {
   "cell_type": "code",
   "execution_count": null,
   "id": "8f674430",
   "metadata": {},
   "outputs": [],
   "source": []
  }
 ],
 "metadata": {
  "kernelspec": {
   "display_name": "Python 3 (ipykernel)",
   "language": "python",
   "name": "python3"
  },
  "language_info": {
   "codemirror_mode": {
    "name": "ipython",
    "version": 3
   },
   "file_extension": ".py",
   "mimetype": "text/x-python",
   "name": "python",
   "nbconvert_exporter": "python",
   "pygments_lexer": "ipython3",
   "version": "3.9.6"
  }
 },
 "nbformat": 4,
 "nbformat_minor": 5
}
