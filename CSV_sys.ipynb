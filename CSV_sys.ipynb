{
 "cells": [
  {
   "cell_type": "code",
   "execution_count": 1,
   "id": "afe82f91",
   "metadata": {
    "scrolled": false
   },
   "outputs": [
    {
     "name": "stderr",
     "output_type": "stream",
     "text": [
      "/var/folders/ll/8_2_l77j4yl2zjb6stl8d9b00000gn/T/ipykernel_96920/3697949924.py:6: UserWarning: Boolean Series key will be reindexed to match DataFrame index.\n",
      "  df = df[df['CSV_err']<0.1][df['rho_coe']!=1.8][df['rho_coe']!=-1.8]\n"
     ]
    },
    {
     "data": {
      "text/html": [
       "<div>\n",
       "<style scoped>\n",
       "    .dataframe tbody tr th:only-of-type {\n",
       "        vertical-align: middle;\n",
       "    }\n",
       "\n",
       "    .dataframe tbody tr th {\n",
       "        vertical-align: top;\n",
       "    }\n",
       "\n",
       "    .dataframe thead th {\n",
       "        text-align: right;\n",
       "    }\n",
       "</style>\n",
       "<table border=\"1\" class=\"dataframe\">\n",
       "  <thead>\n",
       "    <tr style=\"text-align: right;\">\n",
       "      <th></th>\n",
       "      <th>Q2</th>\n",
       "      <th>xbj</th>\n",
       "      <th>xbj_corr</th>\n",
       "      <th>rho_coe</th>\n",
       "      <th>CSV</th>\n",
       "      <th>CSV_err</th>\n",
       "    </tr>\n",
       "  </thead>\n",
       "  <tbody>\n",
       "    <tr>\n",
       "      <th>count</th>\n",
       "      <td>300.000000</td>\n",
       "      <td>300.000000</td>\n",
       "      <td>300.000000</td>\n",
       "      <td>300.000000</td>\n",
       "      <td>300.000000</td>\n",
       "      <td>300.000000</td>\n",
       "    </tr>\n",
       "    <tr>\n",
       "      <th>mean</th>\n",
       "      <td>4.712500</td>\n",
       "      <td>0.465000</td>\n",
       "      <td>0.464719</td>\n",
       "      <td>-0.633333</td>\n",
       "      <td>0.015595</td>\n",
       "      <td>0.023657</td>\n",
       "    </tr>\n",
       "    <tr>\n",
       "      <th>std</th>\n",
       "      <td>0.604514</td>\n",
       "      <td>0.100916</td>\n",
       "      <td>0.093513</td>\n",
       "      <td>1.205709</td>\n",
       "      <td>0.064918</td>\n",
       "      <td>0.019066</td>\n",
       "    </tr>\n",
       "    <tr>\n",
       "      <th>min</th>\n",
       "      <td>4.000000</td>\n",
       "      <td>0.275000</td>\n",
       "      <td>0.287822</td>\n",
       "      <td>-1.500000</td>\n",
       "      <td>-0.199142</td>\n",
       "      <td>0.003425</td>\n",
       "    </tr>\n",
       "    <tr>\n",
       "      <th>25%</th>\n",
       "      <td>4.000000</td>\n",
       "      <td>0.375000</td>\n",
       "      <td>0.387709</td>\n",
       "      <td>-1.500000</td>\n",
       "      <td>-0.031798</td>\n",
       "      <td>0.010779</td>\n",
       "    </tr>\n",
       "    <tr>\n",
       "      <th>50%</th>\n",
       "      <td>4.750000</td>\n",
       "      <td>0.475000</td>\n",
       "      <td>0.470421</td>\n",
       "      <td>-1.500000</td>\n",
       "      <td>0.014927</td>\n",
       "      <td>0.019279</td>\n",
       "    </tr>\n",
       "    <tr>\n",
       "      <th>75%</th>\n",
       "      <td>5.500000</td>\n",
       "      <td>0.537500</td>\n",
       "      <td>0.532629</td>\n",
       "      <td>1.000000</td>\n",
       "      <td>0.066308</td>\n",
       "      <td>0.026372</td>\n",
       "    </tr>\n",
       "    <tr>\n",
       "      <th>max</th>\n",
       "      <td>5.500000</td>\n",
       "      <td>0.625000</td>\n",
       "      <td>0.614131</td>\n",
       "      <td>1.500000</td>\n",
       "      <td>0.157690</td>\n",
       "      <td>0.079212</td>\n",
       "    </tr>\n",
       "  </tbody>\n",
       "</table>\n",
       "</div>"
      ],
      "text/plain": [
       "               Q2         xbj    xbj_corr     rho_coe         CSV     CSV_err\n",
       "count  300.000000  300.000000  300.000000  300.000000  300.000000  300.000000\n",
       "mean     4.712500    0.465000    0.464719   -0.633333    0.015595    0.023657\n",
       "std      0.604514    0.100916    0.093513    1.205709    0.064918    0.019066\n",
       "min      4.000000    0.275000    0.287822   -1.500000   -0.199142    0.003425\n",
       "25%      4.000000    0.375000    0.387709   -1.500000   -0.031798    0.010779\n",
       "50%      4.750000    0.475000    0.470421   -1.500000    0.014927    0.019279\n",
       "75%      5.500000    0.537500    0.532629    1.000000    0.066308    0.026372\n",
       "max      5.500000    0.625000    0.614131    1.500000    0.157690    0.079212"
      ]
     },
     "execution_count": 1,
     "metadata": {},
     "output_type": "execute_result"
    }
   ],
   "source": [
    "import numpy as np\n",
    "import matplotlib.pyplot as plt\n",
    "\n",
    "import pandas as pd\n",
    "df = pd.read_csv(\"results/csv_systematic.txt\")\n",
    "df = df[df['CSV_err']<0.1][df['rho_coe']!=1.8][df['rho_coe']!=-1.8]\n",
    "#df = df[df['rho_coe']!=1.8][df['rho_coe']!=-1]#[df['PDF_model']=='JAM20']\n",
    "#print(df['PDF_model'].unique())\n",
    "df.describe()"
   ]
  },
  {
   "cell_type": "code",
   "execution_count": 2,
   "id": "fce7d264",
   "metadata": {},
   "outputs": [
    {
     "name": "stdout",
     "output_type": "stream",
     "text": [
      "[0.28782192 0.33444932 0.37382584 0.42002944 0.46941981 0.51694167\n",
      " 0.56676958]\n",
      "[-0.01587065400509233, 0.03580057443957649, 0.05915536342507383, 0.058309679331349305, 0.04306639982946169, 0.0070135978843704865, -0.007830103962199027]\n",
      "[0.04560024260079093, 0.022004638229826907, 0.016690447979338052, 0.01604071310817034, 0.018709786310816948, 0.030704446515275426, 0.05649741489804487]\n",
      "[0.06425837661406325, 0.07585923316398581, 0.08825893920998762, 0.07290970067709725, 0.05997300120559509, 0.04843003663297368, 0.0179298394472416]\n"
     ]
    },
    {
     "name": "stderr",
     "output_type": "stream",
     "text": [
      "/var/folders/ll/8_2_l77j4yl2zjb6stl8d9b00000gn/T/ipykernel_96920/1888431322.py:9: UserWarning: Boolean Series key will be reindexed to match DataFrame index.\n",
      "  CSVs = df[df['Q2']==4][df['xbj_corr']==ix]['CSV']\n",
      "/var/folders/ll/8_2_l77j4yl2zjb6stl8d9b00000gn/T/ipykernel_96920/1888431322.py:12: UserWarning: Boolean Series key will be reindexed to match DataFrame index.\n",
      "  CSVs_errs = df[df['Q2']==4][df['xbj_corr']==ix]['CSV_err']\n"
     ]
    }
   ],
   "source": [
    "import statistics \n",
    "xs_one = df[df['Q2']==4].sort_values('xbj_corr')['xbj_corr'].unique()\n",
    "\n",
    "CSV_one = []\n",
    "CSV_one_stat = []\n",
    "CSV_one_sys = []\n",
    "\n",
    "for ix in xs_one:\n",
    "    CSVs = df[df['Q2']==4][df['xbj_corr']==ix]['CSV']\n",
    "    mean = statistics.mean(CSVs)\n",
    "    std = statistics.stdev(CSVs)\n",
    "    CSVs_errs = df[df['Q2']==4][df['xbj_corr']==ix]['CSV_err']\n",
    "    err_mean = statistics.mean(CSVs_errs)\n",
    "    #print(mean)\n",
    "    #print(std)\n",
    "    CSV_one.append(mean)\n",
    "    CSV_one_stat.append(err_mean)\n",
    "    CSV_one_sys.append(std)\n",
    "print(xs_one)\n",
    "print(CSV_one)\n",
    "print(CSV_one_stat)\n",
    "print(CSV_one_sys)"
   ]
  },
  {
   "cell_type": "code",
   "execution_count": 3,
   "id": "ed04ddb5",
   "metadata": {},
   "outputs": [],
   "source": [
    "\n",
    "def delta_udv(parameter):\n",
    "    #x = np.arange(0.2,0.7,0.01)\n",
    "    x = np.linspace(0.2,0.7,50)\n",
    "    return parameter*(1-x)**4*x**-0.5*(x-0.0909)\n",
    "#x_axis = np.arange(0.2,0.7,0.01)\n",
    "x_axis = np.linspace(0.2,0.7,50)\n",
    "y_delta_uv = delta_udv(-0.2)\n",
    "y_delta_dv = delta_udv(0.2)\n",
    "y_delta_uv_up = delta_udv(0.8)\n",
    "y_delta_uv_low = delta_udv(-0.8)\n",
    "y_delta_dv_up = delta_udv(-0.65)\n",
    "y_delta_dv_low = delta_udv(0.65)"
   ]
  },
  {
   "cell_type": "code",
   "execution_count": 4,
   "id": "d9f219cf",
   "metadata": {
    "scrolled": false
   },
   "outputs": [
    {
     "data": {
      "text/plain": [
       "<matplotlib.collections.PolyCollection at 0x11e0af430>"
      ]
     },
     "execution_count": 4,
     "metadata": {},
     "output_type": "execute_result"
    },
    {
     "data": {
      "image/png": "[encoded data removed]",
      "text/plain": [
       "<Figure size 432x288 with 1 Axes>"
      ]
     },
     "metadata": {
      "needs_background": "light"
     },
     "output_type": "display_data"
    }
   ],
   "source": [
    "fig, ax = plt.subplots()\n",
    "ax.fill_between(x_axis,y_delta_uv_up-y_delta_uv_low,y_delta_dv_up-y_delta_dv_low,color = 'y',alpha=.25, linewidth=0)\n",
    "ax.plot(x_axis,y_delta_dv-y_delta_uv,label = 'MRST',color = 'y')\n",
    "\n",
    "plt.errorbar(xs_one,CSV_one,CSV_one_stat,fmt = 'o',color = 'k')\n",
    "plt.fill_between(xs_one,-0.1-np.asarray(CSV_one_sys),-0.1+np.asarray(CSV_one_sys),alpha = 0.15,color = 'k')"
   ]
  },
  {
   "cell_type": "code",
   "execution_count": 5,
   "id": "3f4cee67",
   "metadata": {
    "scrolled": true
   },
   "outputs": [
    {
     "name": "stdout",
     "output_type": "stream",
     "text": [
      "[0.339491   0.3861515  0.42582662 0.47142311 0.51930108 0.56819041\n",
      " 0.61413082]\n",
      "[-0.09996629216101623, 0.03842994689751441, 0.047098140642856015, 0.050273991499957496, 0.045660857388841646, 0.027000851502615594, -0.03299572043682688]\n",
      "[0.055262116869378944, 0.019990283116018068, 0.01247476722400182, 0.010634260382571988, 0.011464155337326273, 0.017326951015240934, 0.03352703917606186]\n",
      "[0.06890660796848445, 0.06367591556837612, 0.06335836714520847, 0.06299373861996443, 0.05717747172618631, 0.04627906746235526, 0.028212398584495858]\n"
     ]
    },
    {
     "name": "stderr",
     "output_type": "stream",
     "text": [
      "/var/folders/ll/8_2_l77j4yl2zjb6stl8d9b00000gn/T/ipykernel_96920/2448108693.py:9: UserWarning: Boolean Series key will be reindexed to match DataFrame index.\n",
      "  CSVs = df[df['Q2']==4.75][df['xbj_corr']==ix]['CSV']\n",
      "/var/folders/ll/8_2_l77j4yl2zjb6stl8d9b00000gn/T/ipykernel_96920/2448108693.py:12: UserWarning: Boolean Series key will be reindexed to match DataFrame index.\n",
      "  CSVs_errs = df[df['Q2']==4.75][df['xbj_corr']==ix]['CSV_err']\n"
     ]
    }
   ],
   "source": [
    "import statistics \n",
    "xs_two = df[df['Q2']==4.75].sort_values('xbj_corr')['xbj_corr'].unique()\n",
    "\n",
    "CSV_two = []\n",
    "CSV_two_stat = []\n",
    "CSV_two_sys = []\n",
    "\n",
    "for ix in xs_two:\n",
    "    CSVs = df[df['Q2']==4.75][df['xbj_corr']==ix]['CSV']\n",
    "    mean = statistics.mean(CSVs)\n",
    "    std = statistics.stdev(CSVs)\n",
    "    CSVs_errs = df[df['Q2']==4.75][df['xbj_corr']==ix]['CSV_err']\n",
    "    err_mean = statistics.mean(CSVs_errs)\n",
    "    #print(mean)\n",
    "    #print(std)\n",
    "    CSV_two.append(mean)\n",
    "    CSV_two_stat.append(err_mean)\n",
    "    CSV_two_sys.append(std)\n",
    "print(xs_two)\n",
    "print(CSV_two)\n",
    "print(CSV_two_stat)\n",
    "print(CSV_two_sys)"
   ]
  },
  {
   "cell_type": "code",
   "execution_count": 6,
   "id": "28257a7a",
   "metadata": {
    "scrolled": true
   },
   "outputs": [
    {
     "data": {
      "text/plain": [
       "<matplotlib.collections.PolyCollection at 0x11e29fa00>"
      ]
     },
     "execution_count": 6,
     "metadata": {},
     "output_type": "execute_result"
    },
    {
     "data": {
      "image/png": "[encoded data removed]",
      "text/plain": [
       "<Figure size 432x288 with 1 Axes>"
      ]
     },
     "metadata": {
      "needs_background": "light"
     },
     "output_type": "display_data"
    }
   ],
   "source": [
    "fig, ax = plt.subplots()\n",
    "ax.fill_between(x_axis,y_delta_uv_up-y_delta_uv_low,y_delta_dv_up-y_delta_dv_low,color = 'y',alpha=.25, linewidth=0)\n",
    "ax.plot(x_axis,y_delta_dv-y_delta_uv,label = 'MRST',color = 'y')\n",
    "\n",
    "plt.errorbar(xs_two,CSV_two,CSV_two_stat,fmt = 'o',color = 'm')\n",
    "plt.fill_between(xs_two,-0.1-np.asarray(CSV_two_sys),-0.1+np.asarray(CSV_two_sys),alpha = 0.15,color = 'm')"
   ]
  },
  {
   "cell_type": "code",
   "execution_count": 7,
   "id": "c15c28b1",
   "metadata": {
    "scrolled": true
   },
   "outputs": [
    {
     "name": "stdout",
     "output_type": "stream",
     "text": [
      "[0.38822829 0.43232054 0.47648507 0.52124882 0.56884832 0.61346745]\n",
      "[0.02730289274036019, -0.0014597138392790396, 0.010703685990983447, 0.037597069359448745, 0.009976336673625293, -0.027361490883506714]\n",
      "[0.04362703619893575, 0.015173049365928074, 0.010187767370779567, 0.00957325172297474, 0.010315181753137033, 0.01733643206153998]\n",
      "[0.05279063685981732, 0.0247137522383055, 0.025494748363327657, 0.046625204780231924, 0.02554105604967316, 0.007495265788480337]\n"
     ]
    },
    {
     "name": "stderr",
     "output_type": "stream",
     "text": [
      "/var/folders/ll/8_2_l77j4yl2zjb6stl8d9b00000gn/T/ipykernel_96920/3192017738.py:9: UserWarning: Boolean Series key will be reindexed to match DataFrame index.\n",
      "  CSVs = df[df['Q2']==5.5][df['xbj_corr']==ix]['CSV']\n",
      "/var/folders/ll/8_2_l77j4yl2zjb6stl8d9b00000gn/T/ipykernel_96920/3192017738.py:12: UserWarning: Boolean Series key will be reindexed to match DataFrame index.\n",
      "  CSVs_errs = df[df['Q2']==5.5][df['xbj_corr']==ix]['CSV_err']\n"
     ]
    }
   ],
   "source": [
    "import statistics \n",
    "xs_three = df[df['Q2']==5.5].sort_values('xbj_corr')['xbj_corr'].unique()\n",
    "\n",
    "CSV_three = []\n",
    "CSV_three_stat = []\n",
    "CSV_three_sys = []\n",
    "\n",
    "for ix in xs_three:\n",
    "    CSVs = df[df['Q2']==5.5][df['xbj_corr']==ix]['CSV']\n",
    "    mean = statistics.mean(CSVs)\n",
    "    std = statistics.stdev(CSVs)\n",
    "    CSVs_errs = df[df['Q2']==5.5][df['xbj_corr']==ix]['CSV_err']\n",
    "    err_mean = statistics.mean(CSVs_errs)\n",
    "    #print(mean)\n",
    "    #print(std)\n",
    "    CSV_three.append(mean)\n",
    "    CSV_three_stat.append(err_mean)\n",
    "    CSV_three_sys.append(std)\n",
    "print(xs_three)\n",
    "print(CSV_three)\n",
    "print(CSV_three_stat)\n",
    "print(CSV_three_sys)"
   ]
  },
  {
   "cell_type": "code",
   "execution_count": 8,
   "id": "edbdcfd5",
   "metadata": {
    "scrolled": true
   },
   "outputs": [
    {
     "data": {
      "text/plain": [
       "<matplotlib.collections.PolyCollection at 0x11e329ac0>"
      ]
     },
     "execution_count": 8,
     "metadata": {},
     "output_type": "execute_result"
    },
    {
     "data": {
      "image/png": "[encoded data removed]",
      "text/plain": [
       "<Figure size 432x288 with 1 Axes>"
      ]
     },
     "metadata": {
      "needs_background": "light"
     },
     "output_type": "display_data"
    }
   ],
   "source": [
    "fig, ax = plt.subplots()\n",
    "ax.fill_between(x_axis,y_delta_uv_up-y_delta_uv_low,y_delta_dv_up-y_delta_dv_low,color = 'y',alpha=.25, linewidth=0)\n",
    "ax.plot(x_axis,y_delta_dv-y_delta_uv,label = 'MRST',color = 'y')\n",
    "\n",
    "plt.errorbar(xs_three,CSV_three,CSV_three_stat,fmt = 'o',color = 'b')\n",
    "plt.fill_between(xs_three,-0.1-np.asarray(CSV_three_sys),-0.1+np.asarray(CSV_three_sys),alpha = 0.15,color = 'b')"
   ]
  },
  {
   "cell_type": "code",
   "execution_count": 9,
   "id": "f2657b35",
   "metadata": {
    "scrolled": true
   },
   "outputs": [
    {
     "data": {
      "image/png": "[encoded data removed]",
      "text/plain": [
       "<Figure size 432x288 with 1 Axes>"
      ]
     },
     "metadata": {
      "needs_background": "light"
     },
     "output_type": "display_data"
    }
   ],
   "source": [
    "fig, ax = plt.subplots()\n",
    "ax.fill_between(x_axis,y_delta_uv_up-y_delta_uv_low,y_delta_dv_up-y_delta_dv_low,color = 'y',alpha=.25, linewidth=0)\n",
    "ax.plot(x_axis,y_delta_dv-y_delta_uv,label = 'MRST',color = 'y')\n",
    "\n",
    "plt.errorbar(xs_one,CSV_one,CSV_one_stat,fmt = 'o',color = 'k',label = r'$Q^2 = 4GeV^2$')\n",
    "plt.fill_between(xs_one,-0.1-np.asarray(CSV_one_sys),-0.1+np.asarray(CSV_one_sys),alpha = 0.15,color = 'k')\n",
    "\n",
    "plt.errorbar(xs_two,CSV_two,CSV_two_stat,fmt = 'o',color = 'm',label = r'$Q^2 = 4.75GeV^2$')\n",
    "plt.fill_between(xs_two,-0.1-np.asarray(CSV_two_sys),-0.1+np.asarray(CSV_two_sys),alpha = 0.15,color = 'm')\n",
    "\n",
    "plt.errorbar(xs_three,CSV_three,CSV_three_stat,fmt = 'o',color = 'b',label = r'$Q^2 = 5.5GeV^2$')\n",
    "plt.fill_between(xs_three,-0.1-np.asarray(CSV_three_sys),-0.1+np.asarray(CSV_three_sys),alpha = 0.15,color = 'b')\n",
    "\n",
    "plt.xlabel('x')\n",
    "plt.ylabel('CSV')\n",
    "plt.ylim(-0.2,0.35)\n",
    "plt.legend()\n",
    "#plt.legend(title = 'sys err from all')\n",
    "plt.savefig('results/CSV_sys_err_from_all.pdf')\n",
    "#plt.savefig('results/CSV_sys_err_from_PDFs.pdf')\n",
    "#plt.legend(title = 'sys err from FFs')\n",
    "#plt.savefig('results/CSV_sys_err_from_FFs.pdf')"
   ]
  },
  {
   "cell_type": "code",
   "execution_count": null,
   "id": "a3981886",
   "metadata": {},
   "outputs": [],
   "source": []
  },
  {
   "cell_type": "code",
   "execution_count": null,
   "id": "8f674430",
   "metadata": {},
   "outputs": [],
   "source": []
  }
 ],
 "metadata": {
  "kernelspec": {
   "display_name": "Python 3 (ipykernel)",
   "language": "python",
   "name": "python3"
  },
  "language_info": {
   "codemirror_mode": {
    "name": "ipython",
    "version": 3
   },
   "file_extension": ".py",
   "mimetype": "text/x-python",
   "name": "python",
   "nbconvert_exporter": "python",
   "pygments_lexer": "ipython3",
   "version": "3.9.6"
  }
 },
 "nbformat": 4,
 "nbformat_minor": 5
}
