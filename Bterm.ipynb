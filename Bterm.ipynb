{
 "cells": [
  {
   "cell_type": "code",
   "execution_count": 1,
   "id": "432e3700-f6a0-4b49-8532-3338cb96308b",
   "metadata": {},
   "outputs": [],
   "source": [
    "import matplotlib.pyplot as plt\n",
    "import lhapdf\n",
    "import numpy as np\n",
    "import json\n",
    "import math"
   ]
  },
  {
   "cell_type": "code",
   "execution_count": 2,
   "id": "7a8cbbb7-7886-407e-baa8-11f0c640e8f2",
   "metadata": {},
   "outputs": [
    {
     "name": "stdout",
     "output_type": "stream",
     "text": [
      "LHAPDF 6.3.0 loading all 1 PDFs in set cteq6l1\n",
      "cteq6l1, version 4; 1 PDF members\n"
     ]
    }
   ],
   "source": [
    "## Getting a PDF member object\n",
    "set_cteq6 = lhapdf.getPDFSet(\"cteq6l1\")\n",
    "p_cteq6 = set_cteq6.mkPDFs()\n",
    "#p_cteq6 = lhapdf.mkPDF(\"cteq6l1\", 0)\n",
    "#p_cteq6 = lhapdf.mkPDF(\"cteq6l1/0\")"
   ]
  },
  {
   "cell_type": "code",
   "execution_count": 3,
   "id": "a538d4fd-c5de-40f4-92e8-f67de98efc9d",
   "metadata": {},
   "outputs": [
    {
     "name": "stdout",
     "output_type": "stream",
     "text": [
      "Q2 is  6.089999999999999\n"
     ]
    },
    {
     "data": {
      "text/plain": [
       "<matplotlib.legend.Legend at 0x11c267d00>"
      ]
     },
     "execution_count": 3,
     "metadata": {},
     "output_type": "execute_result"
    },
    {
     "data": {
      "image/png": "[encoded data removed]",
      "text/plain": [
       "<Figure size 432x288 with 1 Axes>"
      ]
     },
     "metadata": {
      "needs_background": "light"
     },
     "output_type": "display_data"
    }
   ],
   "source": [
    "Q2 = [4,4.75,5,5.75,6.09]\n",
    "Q=math.sqrt(Q2[4])\n",
    "print(\"Q2 is \",Q*Q)\n",
    "x_axis = np.arange(0.01,0.99,0.01)\n",
    "y_dv=[]\n",
    "y_uv=[]\n",
    "y_dbar=[]\n",
    "y_ubar=[]\n",
    "y_g = []\n",
    "y_dv_err = []\n",
    "y_uv_err = []\n",
    "for x in np.arange(0.01,0.99,0.01):\n",
    "    y_dv.append(p_cteq6[0].xfxQ(1,x,Q))\n",
    "    y_uv.append(p_cteq6[0].xfxQ(2,x,Q))\n",
    "    y_dbar.append(p_cteq6[0].xfxQ(-1,x,Q))\n",
    "    y_ubar.append(p_cteq6[0].xfxQ(-2,x,Q))\n",
    "    y_g.append(p_cteq6[0].xfxQ(0,x,Q))\n",
    "    #y_dv_err.append(set_cteq6[0].uncertainty(1,x,Q).errsymm)\n",
    "    #y_uv_err.append(set_cteq6[0].uncertainty(2,x,Q).errsymm)\n",
    "#y_uv[0] = 0    \n",
    "plt.plot(x_axis,y_dv,label=r\"$d_v$\")\n",
    "plt.plot(x_axis,y_uv,label=r\"$u_v$\")\n",
    "#plt.plot(x_axis,y_1,label=r\"$g$\")\n",
    "plt.plot(x_axis,y_dbar,label=r\"$\\bar d$\")\n",
    "plt.plot(x_axis,y_ubar,label=r\"$\\bar u$\")\n",
    "plt.xlabel(\"x\")\n",
    "plt.ylabel(r\"xf(x,$Q^2$)\")\n",
    "Q2_str = str(Q*Q)\n",
    "plt.title(r\"$Q^2$ is \"+Q2_str[0:5])\n",
    "plt.legend()"
   ]
  },
  {
   "cell_type": "code",
   "execution_count": null,
   "id": "cd6a5df5-4c65-4ee9-a968-638082b7fca9",
   "metadata": {},
   "outputs": [],
   "source": [
    "u_bar=np.asarray(y_ubar)\n",
    "d_bar=np.asarray(y_dbar)\n",
    "u_v=np.asarray(y_uv)\n",
    "d_v=np.asarray(y_dv)\n",
    "R_sea_NS=5*(u_bar+d_bar)/(u_v+d_v)\n",
    "Bxz=R_sea_NS\n"
   ]
  },
  {
   "cell_type": "code",
   "execution_count": null,
   "id": "597577ab-ae9a-4977-b1c5-9ba11956453c",
   "metadata": {},
   "outputs": [],
   "source": [
    "fig = plt.figure()\n",
    "ax = fig.add_subplot()\n",
    "plt.plot(x_axis,Bxz,label=\"B(x)\")\n",
    "ax.set_yscale(\"log\")\n",
    "plt.ylim(1e-4,1e1)\n",
    "plt.xlim(0.001,0.8)\n",
    "plt.xlabel(\"x\")\n",
    "plt.ylabel(r\"$R_{sea_{NS}}$\")"
   ]
  },
  {
   "cell_type": "code",
   "execution_count": null,
   "id": "deb371a4-5799-4164-a1b0-1b6dff0b4e25",
   "metadata": {},
   "outputs": [],
   "source": [
    "plt.plot([1/3, 1/3], [0, 1], color='k', linestyle='-', linewidth=2)\n",
    "plt.ylim(1e-4,1.1)\n",
    "plt.xlim(0,1.1)\n",
    "ax = plt.gca()\n",
    "ax.axes.yaxis.set_visible(False)\n",
    "plt.xlabel(\"x\")\n"
   ]
  },
  {
   "cell_type": "code",
   "execution_count": null,
   "id": "2f658ed7",
   "metadata": {},
   "outputs": [],
   "source": [
    "plt.plot([1, 1], [0, 1], color='k', linestyle='-', linewidth=2)\n",
    "plt.ylim(1e-4,1.1)\n",
    "plt.xlim(0,1.1)\n",
    "ax = plt.gca()\n",
    "ax.axes.yaxis.set_visible(False)\n",
    "plt.xlabel(\"x\")\n",
    "\n"
   ]
  },
  {
   "cell_type": "code",
   "execution_count": null,
   "id": "42ae0196",
   "metadata": {},
   "outputs": [],
   "source": [
    "import numpy, scipy, scipy.optimize\n",
    "import matplotlib\n",
    "from mpl_toolkits.mplot3d import  Axes3D\n",
    "from matplotlib import cm # to colormap 3D surfaces from blue to red\n",
    "import matplotlib.pyplot as plt\n",
    "\n",
    "graphWidth = 800 # units are pixels\n",
    "graphHeight = 600 # units are pixels\n",
    "\n",
    "# 3D contour plot lines\n",
    "numberOfContourLines = 16\n",
    "\n",
    "\n",
    "def SurfacePlot(func, data, fittedParameters):\n",
    "    f = plt.figure(figsize=(graphWidth/100.0, graphHeight/100.0), dpi=100)\n",
    "\n",
    "    matplotlib.pyplot.grid(True)\n",
    "    axes = Axes3D(f)\n",
    "\n",
    "    x_data = data[0]\n",
    "    y_data = data[1]\n",
    "    z_data = data[2]\n",
    "\n",
    "    xModel = numpy.linspace(min(x_data), max(x_data), 20)\n",
    "    yModel = numpy.linspace(min(y_data), max(y_data), 20)\n",
    "    X, Y = numpy.meshgrid(xModel, yModel)\n",
    "\n",
    "    Z = func(numpy.array([X, Y]), *fittedParameters)\n",
    "\n",
    "    axes.plot_surface(X, Y, Z, rstride=1, cstride=1, cmap=cm.coolwarm, linewidth=1, antialiased=True)\n",
    "\n",
    "    axes.scatter(x_data, y_data, z_data) # show data along with plotted surface\n",
    "\n",
    "    axes.set_title('Surface Plot (click-drag with mouse)') # add a title for surface plot\n",
    "    axes.set_xlabel('X Data') # X axis data label\n",
    "    axes.set_ylabel('Y Data') # Y axis data label\n",
    "    axes.set_zlabel('Z Data') # Z axis data label\n",
    "\n",
    "    plt.show()\n",
    "    plt.close('all') # clean up after using pyplot or else there can be memory and process problems\n",
    "\n",
    "\n",
    "def ContourPlot(func, data, fittedParameters):\n",
    "    f = plt.figure(figsize=(graphWidth/100.0, graphHeight/100.0), dpi=100)\n",
    "    axes = f.add_subplot(111)\n",
    "\n",
    "    x_data = data[0]\n",
    "    y_data = data[1]\n",
    "    z_data = data[2]\n",
    "\n",
    "    xModel = numpy.linspace(min(x_data), max(x_data), 20)\n",
    "    yModel = numpy.linspace(min(y_data), max(y_data), 20)\n",
    "    X, Y = numpy.meshgrid(xModel, yModel)\n",
    "\n",
    "    Z = func(numpy.array([X, Y]), *fittedParameters)\n",
    "\n",
    "    axes.plot(x_data, y_data, 'o')\n",
    "\n",
    "    axes.set_title('Contour Plot') # add a title for contour plot\n",
    "    axes.set_xlabel('X Data') # X axis data label\n",
    "    axes.set_ylabel('Y Data') # Y axis data label\n",
    "\n",
    "    CS = matplotlib.pyplot.contour(X, Y, Z, numberOfContourLines, colors='k')\n",
    "    matplotlib.pyplot.clabel(CS, inline=1, fontsize=10) # labels for contours\n",
    "\n",
    "    plt.show()\n",
    "    plt.close('all') # clean up after using pyplot or else there can be memory and process problems\n",
    "\n",
    "\n",
    "def ScatterPlot(data):\n",
    "    f = plt.figure(figsize=(graphWidth/100.0, graphHeight/100.0), dpi=100)\n",
    "\n",
    "    matplotlib.pyplot.grid(True)\n",
    "    axes = Axes3D(f)\n",
    "    x_data = data[0]\n",
    "    y_data = data[1]\n",
    "    z_data = data[2]\n",
    "\n",
    "    axes.scatter(x_data, y_data, z_data)\n",
    "\n",
    "    axes.set_title('Scatter Plot (click-drag with mouse)')\n",
    "    axes.set_xlabel('X Data')\n",
    "    axes.set_ylabel('Y Data')\n",
    "    axes.set_zlabel('Z Data')\n",
    "\n",
    "    plt.show()\n",
    "    plt.close('all') # clean up after using pyplot or else there can be memory and process problems\n",
    "\n",
    "\n",
    "def func(data, a, b, c):\n",
    "    x = data[0]\n",
    "    y = data[1]\n",
    "    return (a * x) + (y * b) + c\n",
    "\n",
    "\n",
    "if __name__ == \"__main__\":\n",
    "    xData = numpy.array([1.0, 2.0, 3.0, 4.0, 5.0, 6.0, 7.0, 8.0, 9.0])\n",
    "    yData = numpy.array([11.0, 12.1, 13.0, 14.1, 15.0, 16.1, 17.0, 18.1, 90.0])\n",
    "    zData = numpy.array([1.1, 2.2, 3.3, 4.4, 5.5, 6.6, 7.7, 8.0, 9.9])\n",
    "\n",
    "    data = [xData, yData, zData]\n",
    "\n",
    "    initialParameters = [1.0, 1.0, 1.0] # these are the same as scipy default values in this example\n",
    "\n",
    "    # here a non-linear surface fit is made with scipy's curve_fit()\n",
    "    fittedParameters, pcov = scipy.optimize.curve_fit(func, [xData, yData], zData, p0 = initialParameters)\n",
    "\n",
    "    ScatterPlot(data)\n",
    "    SurfacePlot(func, data, fittedParameters)\n",
    "    ContourPlot(func, data, fittedParameters)\n",
    "\n",
    "    print('fitted prameters', fittedParameters)\n",
    "\n",
    "    modelPredictions = func(data, *fittedParameters) \n",
    "\n",
    "    absError = modelPredictions - zData\n",
    "\n",
    "    SE = numpy.square(absError) # squared errors\n",
    "    MSE = numpy.mean(SE) # mean squared errors\n",
    "    RMSE = numpy.sqrt(MSE) # Root Mean Squared Error, RMSE\n",
    "    Rsquared = 1.0 - (numpy.var(absError) / numpy.var(zData))\n",
    "    print('RMSE:', RMSE)\n",
    "    print('R-squared:', Rsquared)"
   ]
  },
  {
   "cell_type": "code",
   "execution_count": null,
   "id": "7ba5d109",
   "metadata": {},
   "outputs": [],
   "source": []
  }
 ],
 "metadata": {
  "kernelspec": {
   "display_name": "Python 3 (ipykernel)",
   "language": "python",
   "name": "python3"
  },
  "language_info": {
   "codemirror_mode": {
    "name": "ipython",
    "version": 3
   },
   "file_extension": ".py",
   "mimetype": "text/x-python",
   "name": "python",
   "nbconvert_exporter": "python",
   "pygments_lexer": "ipython3",
   "version": "3.9.6"
  }
 },
 "nbformat": 4,
 "nbformat_minor": 5
}
