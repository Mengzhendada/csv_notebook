{
 "cells": [
  {
   "cell_type": "code",
   "execution_count": 1,
   "id": "e4e2b736",
   "metadata": {},
   "outputs": [
    {
     "data": {
      "text/html": [
       "<style>\n",
       ".container {\n",
       "    width:100% !important;\n",
       "}\n",
       "</style>\n"
      ],
      "text/plain": [
       "<IPython.core.display.HTML object>"
      ]
     },
     "metadata": {},
     "output_type": "display_data"
    }
   ],
   "source": [
    "%%html\n",
    "<style>\n",
    ".container {\n",
    "    width:100% !important;\n",
    "}\n",
    "</style>"
   ]
  },
  {
   "cell_type": "code",
   "execution_count": 3,
   "id": "a09bca7d",
   "metadata": {},
   "outputs": [
    {
     "ename": "ModuleNotFoundError",
     "evalue": "No module named 'lhapdf'",
     "output_type": "error",
     "traceback": [
      "\u001b[0;31m--------------------------------------------------------------------------\u001b[0m",
      "\u001b[0;31mModuleNotFoundError\u001b[0m                      Traceback (most recent call last)",
      "\u001b[0;32m<ipython-input-3-1549692b76f0>\u001b[0m in \u001b[0;36m<module>\u001b[0;34m\u001b[0m\n\u001b[1;32m      3\u001b[0m \u001b[0;32mimport\u001b[0m \u001b[0msys\u001b[0m\u001b[0;34m\u001b[0m\u001b[0;34m\u001b[0m\u001b[0m\n\u001b[1;32m      4\u001b[0m \u001b[0msys\u001b[0m\u001b[0;34m.\u001b[0m\u001b[0mpath\u001b[0m\u001b[0;34m.\u001b[0m\u001b[0minsert\u001b[0m\u001b[0;34m(\u001b[0m\u001b[0;36m1\u001b[0m\u001b[0;34m,\u001b[0m\u001b[0;34m'/Users/shuojia/CSV/lhapdf/build/bin'\u001b[0m\u001b[0;34m)\u001b[0m\u001b[0;34m\u001b[0m\u001b[0;34m\u001b[0m\u001b[0m\n\u001b[0;32m----> 5\u001b[0;31m \u001b[0;32mimport\u001b[0m \u001b[0mlhapdf\u001b[0m\u001b[0;34m\u001b[0m\u001b[0;34m\u001b[0m\u001b[0m\n\u001b[0m\u001b[1;32m      6\u001b[0m \u001b[0;32mimport\u001b[0m \u001b[0mnumpy\u001b[0m \u001b[0;32mas\u001b[0m \u001b[0mnp\u001b[0m\u001b[0;34m\u001b[0m\u001b[0;34m\u001b[0m\u001b[0m\n\u001b[1;32m      7\u001b[0m \u001b[0;32mimport\u001b[0m \u001b[0mjson\u001b[0m\u001b[0;34m\u001b[0m\u001b[0;34m\u001b[0m\u001b[0m\n",
      "\u001b[0;31mModuleNotFoundError\u001b[0m: No module named 'lhapdf'"
     ]
    }
   ],
   "source": [
    "import pandas as pd\n",
    "import matplotlib.pyplot as plt\n",
    "import sys\n",
    "sys.path.insert(1,'/Users/shuojia/CSV/lhapdf/build/bin')\n",
    "import lhapdf\n",
    "import numpy as np\n",
    "import json\n",
    "import math\n",
    "from iminuit import Minuit\n",
    "from iminuit.cost import LeastSquares\n",
    "import iminuit\n",
    "print('iminuit version: ',iminuit.__version__)\n",
    "import PyPDF2\n",
    "import os\n",
    "%matplotlib inline\n"
   ]
  },
  {
   "cell_type": "code",
   "execution_count": 14,
   "id": "e6a3e82c",
   "metadata": {},
   "outputs": [
    {
     "name": "stdout",
     "output_type": "stream",
     "text": [
      "LHAPDF 6.4.0 loading all 196 PDFs in set JAM20-SIDIS_PDF_proton_nlo\n",
      "JAM20-SIDIS_PDF_proton_nlo, version 2; 196 PDF members\n",
      "LHAPDF 6.4.0 loading /home/hdbhatt/Downloads/LHAPDF-6.4.0/build/share/LHAPDF/JAM20-SIDIS_FF_pion_nlo/JAM20-SIDIS_FF_pion_nlo_0000.dat\n",
      "JAM20-SIDIS_FF_pion_nlo PDF set, member #0, version 2; LHAPDF ID = 2052000\n"
     ]
    }
   ],
   "source": [
    "set_cteq6 = lhapdf.getPDFSet(\"JAM20-SIDIS_PDF_proton_nlo\")\n",
    "p_cteq6 = set_cteq6.mkPDFs()\n",
    "JAM20 = lhapdf.mkPDF(\"JAM20-SIDIS_FF_pion_nlo\", 0)"
   ]
  },
  {
   "cell_type": "code",
   "execution_count": 25,
   "id": "79b68728",
   "metadata": {},
   "outputs": [
    {
     "data": {
      "text/html": [
       "<div>\n",
       "<style scoped>\n",
       "    .dataframe tbody tr th:only-of-type {\n",
       "        vertical-align: middle;\n",
       "    }\n",
       "\n",
       "    .dataframe tbody tr th {\n",
       "        vertical-align: top;\n",
       "    }\n",
       "\n",
       "    .dataframe thead th {\n",
       "        text-align: right;\n",
       "    }\n",
       "</style>\n",
       "<table border=\"1\" class=\"dataframe\">\n",
       "  <thead>\n",
       "    <tr style=\"text-align: right;\">\n",
       "      <th></th>\n",
       "      <th>#x</th>\n",
       "      <th>Q2</th>\n",
       "      <th>z</th>\n",
       "      <th>h2p</th>\n",
       "      <th>h2perr</th>\n",
       "      <th>d2p</th>\n",
       "      <th>d2perr</th>\n",
       "      <th>h2n</th>\n",
       "      <th>h2nerr</th>\n",
       "      <th>d2n</th>\n",
       "      <th>d2nerr</th>\n",
       "      <th>index</th>\n",
       "      <th>Fp1</th>\n",
       "      <th>Fm1</th>\n",
       "      <th>Up1</th>\n",
       "      <th>Um1</th>\n",
       "      <th>h2p1</th>\n",
       "      <th>h2n1</th>\n",
       "      <th>d2p1</th>\n",
       "      <th>d2n1</th>\n",
       "    </tr>\n",
       "  </thead>\n",
       "  <tbody>\n",
       "    <tr>\n",
       "      <th>0</th>\n",
       "      <td>0.445</td>\n",
       "      <td>4.476</td>\n",
       "      <td>0.325</td>\n",
       "      <td>0.7847</td>\n",
       "      <td>0.0164</td>\n",
       "      <td>0.6851</td>\n",
       "      <td>0.0143</td>\n",
       "      <td>0.4198</td>\n",
       "      <td>0.015</td>\n",
       "      <td>0.485</td>\n",
       "      <td>0.0136</td>\n",
       "      <td>1</td>\n",
       "      <td>0.2</td>\n",
       "      <td>0.1</td>\n",
       "      <td>0.25</td>\n",
       "      <td>0.12</td>\n",
       "      <td>1</td>\n",
       "      <td>1</td>\n",
       "      <td>1</td>\n",
       "      <td>1</td>\n",
       "    </tr>\n",
       "  </tbody>\n",
       "</table>\n",
       "</div>"
      ],
      "text/plain": [
       "      #x     Q2      z     h2p  h2perr     d2p  d2perr     h2n  h2nerr    d2n  \\\n",
       "0  0.445  4.476  0.325  0.7847  0.0164  0.6851  0.0143  0.4198   0.015  0.485   \n",
       "\n",
       "   d2nerr  index  Fp1  Fm1   Up1   Um1  h2p1  h2n1  d2p1  d2n1  \n",
       "0  0.0136      1  0.2  0.1  0.25  0.12     1     1     1     1  "
      ]
     },
     "execution_count": 25,
     "metadata": {},
     "output_type": "execute_result"
    }
   ],
   "source": [
    "data_all = pd.read_csv('x_q2_z_kin34567_alldata_mult_index.txt',delim_whitespace=True)\n",
    "#data_all = pd.read_csv('oneline.txt',delim_whitespace=True)\n",
    "data_all.head(100)"
   ]
  },
  {
   "cell_type": "code",
   "execution_count": 26,
   "id": "9813cd07",
   "metadata": {},
   "outputs": [],
   "source": [
    "def h_dmult(n,x,Q,z,Fp,Fm,Up,Um):\n",
    "    ux = p_cteq6[0].xfxQ(2, x, Q)\n",
    "    dx = p_cteq6[0].xfxQ(1, x, Q)\n",
    "    ubarx = p_cteq6[0].xfxQ(-2, x, Q)\n",
    "    dbarx = p_cteq6[0].xfxQ(-1, x, Q)\n",
    "    u = np.asarray(ux)\n",
    "    d = np.asarray(dx)\n",
    "    ubar = np.asarray(ubarx)\n",
    "    dbar = np.asarray(dbarx)\n",
    "    h2p = (4*u*Fp    + dbar*Fm + d*Up    + 4*ubar*Um) /(4*u + 4*ubar + d + dbar)\n",
    "    h2n = (4*ubar*Fp + d*Fm    + dbar* Up + 4*u*Um)  / (4*u + 4*ubar + d + dbar)\n",
    "    d2p = (4*Fp*(u+d)+ Fm *(ubar+dbar) + Up *(u+d) + 4*Um*(ubar+dbar)) / (5*(u+ubar+d+dbar))\n",
    "    d2n = (4*Fp*(ubar+dbar)+Fm*(u+d)+Up*(ubar+dbar)+4*Um*(u+d))/(5*(u+ubar+d+dbar))\n",
    "    if n==1:\n",
    "        return h2p\n",
    "    if n==2:\n",
    "        return h2n\n",
    "    if n==3:\n",
    "        return d2p\n",
    "    if n==4:\n",
    "        return d2n"
   ]
  },
  {
   "cell_type": "code",
   "execution_count": 27,
   "id": "57dfb5da",
   "metadata": {},
   "outputs": [],
   "source": [
    "def least_squares_1stQ21(Fp,Fm,Up,Um):  \n",
    "    least_square1=0\n",
    "    #do 1 row at a time \n",
    "    for i,row in data_all.iterrows():\n",
    "        x=row['#x']\n",
    "        z=row['z']\n",
    "        Q=np.sqrt(row['Q2'])\n",
    "        meas_h2p=row['h2p']\n",
    "        meas_h2perr=row['h2perr']\n",
    "        meas_d2p=row['d2p']\n",
    "        meas_d2perr=row['d2perr']\n",
    "        meas_h2n=row['h2n']\n",
    "        meas_h2nerr=row['h2nerr']\n",
    "        meas_d2n=row['d2n']\n",
    "        meas_d2nerr=row['d2nerr']\n",
    "        least_square1= (meas_h2p-h_dmult(1,x,Q,z,Fp,Fm,Up,Um))**2 / (meas_h2perr**2)  + (meas_h2n-h_dmult(2,x,Q,z,Fp,Fm,Up,Um))**2 / (meas_h2nerr**2) + (meas_d2p-h_dmult(3,x,Q,z,Fp,Fm,Up,Um))**2 / (meas_d2perr**2)+ (meas_d2n-h_dmult(4,x,Q,z,Fp,Fm,Up,Um))**2 / (meas_d2nerr**2)\n",
    "    return least_square1\n"
   ]
  },
  {
   "cell_type": "code",
   "execution_count": 28,
   "id": "7ea010e1",
   "metadata": {},
   "outputs": [],
   "source": [
    "inits=(0.2, 0.1, 0.25, 0.12)"
   ]
  },
  {
   "cell_type": "code",
   "execution_count": 29,
   "id": "059294b9",
   "metadata": {},
   "outputs": [
    {
     "data": {
      "text/html": [],
      "text/plain": [
       "<IPython.core.display.HTML object>"
      ]
     },
     "metadata": {},
     "output_type": "display_data"
    },
    {
     "name": "stdout",
     "output_type": "stream",
     "text": [
      "Fp = 0.8367567623299524 +/- 0.027313482213000225\n",
      "Fm = 0.8239892256876538 +/- 0.13957373964996977\n",
      "Up = 0.11523168781109802 +/- 0.14944770035493937\n",
      "Um = 0.39106300931470206 +/- 0.02509953515405565\n",
      "Function minimum:  8.442419168601456e-18\n",
      "Number of data points:  1\n",
      "Number of fit parameters:  4\n",
      "Total number of parameters:  4\n",
      "Chi-square:  8.442419168601456e-18\n",
      "Degrees of freedom:  0\n",
      "Chi-square per degree of freedom:  8.442419168601456e-18\n"
     ]
    },
    {
     "data": {
      "image/png": "[encoded data removed]",
      "text/plain": [
       "<Figure size 432x288 with 16 Axes>"
      ]
     },
     "metadata": {
      "needs_background": "light"
     },
     "output_type": "display_data"
    }
   ],
   "source": [
    "m_1stQ21 = Minuit(least_squares_1stQ21,Fp = inits[0],Fm = inits[1],Up=inits[2],Um=inits[3])\n",
    "print(\"initial values: \", m_1stQ21.values)\n",
    "# m_1stQ21.limits['Fp'] = (0,1)\n",
    "# m_1stQ21.limits['Fm'] = (0,1)\n",
    "# m_1stQ21.limits['Up'] = (0,1)\n",
    "# m_1stQ21.limits['Um'] = (0,1)\n",
    "m_1stQ21.migrad()\n",
    "m_1stQ21.hesse()\n",
    "m_1stQ21.draw_mnmatrix(cl=[1, 2, 3])\n",
    "Fp = m_1stQ21.values['Fp']\n",
    "Fm = m_1stQ21.values['Fm']\n",
    "Up = m_1stQ21.values['Up']\n",
    "Um = m_1stQ21.values['Um']\n",
    "print(\"Fp =\", Fp, \"+/-\", m_1stQ21.errors['Fp'])\n",
    "print(\"Fm =\", Fm, \"+/-\", m_1stQ21.errors['Fm'])\n",
    "print(\"Up =\", Up, \"+/-\", m_1stQ21.errors['Up'])\n",
    "print(\"Um =\", Um, \"+/-\", m_1stQ21.errors['Um'])\n",
    "print(\"Function minimum: \", m_1stQ21.fval)\n",
    "chi2_min = m_1stQ21.fval\n",
    "ndof = 4*len(data_all) - m_1stQ21.nfit\n",
    "#chi2_per_dof = chi2_min / ndof\n",
    "chi2_per_dof = chi2_min \n",
    "\n",
    "print(\"Number of data points: \", len(data_all))\n",
    "print(\"Number of fit parameters: \", m_1stQ21.nfit)\n",
    "print(\"Total number of parameters: \", m_1stQ21.npar)\n",
    "print(\"Chi-square: \", chi2_min)\n",
    "print(\"Degrees of freedom: \", ndof)\n",
    "print(\"Chi-square per degree of freedom: \", chi2_per_dof)\n",
    "\n",
    "#print(\"h2p =\",h2p)\n",
    "#print(\"h2p_new =\",h_dmult(1,x,Q,z,Fp,Fm,Up,Um))\n"
   ]
  },
  {
   "cell_type": "code",
   "execution_count": null,
   "id": "04a4ff8d",
   "metadata": {},
   "outputs": [],
   "source": [
    "inits=(0.2, 0.1, 0.25, 0.12)\n",
    "with open(\"output_1.txt\",\"w\") as f:\n",
    "    f.write(\"#x\\tQ\\tz\\tmeas_h2p\\tmeas_h2perr\\tmeas_d2p\\tmeas_d2perr\\tmeas_h2n\\tmeas_h2nerr\\tmeas_d2n\\tmeas_d2nerr\\tFp\\tFm\\tUp\\tUm\\n\")\n",
    "\n",
    "    #f=open('output.out','w')\n",
    "    #print(\"x,z,Q,h2p,h2perr,d2p,d2perr,h2n,h2nerr,d2n,d2nerr,Fp,Fm,Up,Um\",file=f)\n",
    "    for i,row in data_all.iterrows():\n",
    "        x=row['#x']\n",
    "        z=row['z']\n",
    "        Q=np.sqrt(row['Q2'])\n",
    "        meas_h2p=row['h2p']\n",
    "        meas_h2perr=row['h2perr']\n",
    "        meas_d2p=row['d2p']\n",
    "        meas_d2perr=row['d2perr']\n",
    "        meas_h2n=row['h2n']\n",
    "        meas_h2nerr=row['h2nerr']\n",
    "        meas_d2n=row['d2n']\n",
    "        meas_d2nerr=row['d2nerr']\n",
    "        least_square1=0\n",
    "        def least_squares_1stQ21(Fp,Fm,Up,Um):\n",
    "            least_square1= (meas_h2p-h_dmult(1,x,Q,z,Fp,Fm,Up,Um))**2 / (meas_h2perr**2)  + (meas_h2n-h_dmult(2,x,Q,z,Fp,Fm,Up,Um))**2 / (meas_h2nerr**2) + (meas_d2p-h_dmult(3,x,Q,z,Fp,Fm,Up,Um))**2 / (meas_d2perr**2)+ (meas_d2n-h_dmult(4,x,Q,z,Fp,Fm,Up,Um))**2 / (meas_d2nerr**2)\n",
    "            return least_square1\n",
    "        m_1stQ21 = Minuit(least_squares_1stQ21,Fp = inits[0],Fm = inits[1],Up=inits[2],Um=inits[3])\n",
    "        print(\"initial values: \", m_1stQ21.values)\n",
    "        # m_1stQ21.limits['Fp'] = (0,1)\n",
    "        # m_1stQ21.limits['Fm'] = (0,1)\n",
    "        # m_1stQ21.limits['Up'] = (0,1)\n",
    "        # m_1stQ21.limits['Um'] = (0,1)\n",
    "        m_1stQ21.migrad()\n",
    "        m_1stQ21.hesse()\n",
    "        m_1stQ21.draw_mnmatrix(cl=[1, 2, 3])\n",
    "        Fp = m_1stQ21.values['Fp']\n",
    "        Fm = m_1stQ21.values['Fm']\n",
    "        Up = m_1stQ21.values['Up']\n",
    "        Um = m_1stQ21.values['Um']\n",
    "        print(\"Fp =\", Fp, \"+/-\", m_1stQ21.errors['Fp'],end='')\n",
    "        print(\"Fm =\", Fm, \"+/-\", m_1stQ21.errors['Fm'],end='')\n",
    "        print(\"Up =\", Up, \"+/-\", m_1stQ21.errors['Up'],end='')\n",
    "        print(\"Um =\", Um, \"+/-\", m_1stQ21.errors['Um'],end='')\n",
    "        print(\"Function minimum: \", m_1stQ21.fval)\n",
    "        chi2_min = m_1stQ21.fval\n",
    "        ndof = 4*len(data_all) - m_1stQ21.nfit\n",
    "        #chi2_per_dof = chi2_min / ndof\n",
    "        chi2_per_dof = chi2_min\n",
    "\n",
    "        print(\"Number of data points: \", len(data_all),end='')\n",
    "        print(\"Number of fit parameters: \", m_1stQ21.nfit,end='')\n",
    "        print(\"Total number of parameters: \", m_1stQ21.npar,end='')\n",
    "        print(\"Chi-square: \", chi2_min,end='')\n",
    "        print(\"Degrees of freedom: \", ndof,end='')\n",
    "        print(\"Chi-square per degree of freedom: \", chi2_per_dof,end='')\n",
    "        #print(\"x,z,Q2,h2p,h2perr,d2p,d2perr,h2n,h2nerr,d2n,d2nerr,Fp,Fm,Up,Um\",file=f)\n",
    "        #print('%f,%f,%f,%f,%f,%f,%f,%f,%f,%f,%f,%f,%f,%f,%f\\n'%(x,z,Q,meas_h2p,meas_h2perr,meas_d2p,meas_d2perr,meas_h2n,meas_h2nerr,meas_d2n,meas_d2nerr,Fp,Fm,Up,Um),file=f)\n",
    "        #print('%f,%f,%f,%f,%f,%f,%f,%f,%f,%f,%f,%f,%f,%f,%f\\n'%(x,z,Q,meas_h2p,meas_h2perr,meas_d2p,meas_d2perr,meas_h2n,meas_h2nerr,meas_d2n,meas_d2nerr,Fp,Fm,Up,Um))\n",
    "        #f.write('%f,%f,%f,%f,%f,%f,%f,%f,%f,%f,%f,%f,%f,%f,%f\\n'%(x,z,Q,meas_h2p,meas_h2perr,meas_d2p,meas_d2perr,meas_h2n,meas_h2nerr,meas_d2n,meas_d2nerr,Fp,Fm,Up,Um))\n",
    "        f.write(f\"{x:.2f}\\t{Q:.3f}\\t{z:.3f}\\t{meas_h2p:.6f}\\t{meas_h2perr:.6f}\\t{meas_d2p:.6f}\\t{meas_d2perr:.6f}\\t{meas_h2n:.6f}\\t{meas_h2nerr:.6f}\\t{meas_d2n:.6f}\\t{meas_d2nerr:.6f}\\t{hFp:.6f}\\t{Fm:.6f}\\t{Up:.6f}\\t{Um:.6f}\\n\")\n",
    "f.close()"
   ]
  },
  {
   "cell_type": "code",
   "execution_count": 10,
   "id": "e084d95f",
   "metadata": {},
   "outputs": [],
   "source": [
    "with open(\"output_1.txt\",\"w\") as f:\n",
    "    f.write(\"#x\\tQ\\tz\\tmeas_h2p\\tmeas_h2perr\\tmeas_d2p\\tmeas_d2perr\\tmeas_h2n\\tmeas_h2nerr\\tmeas_d2n\\tmeas_d2nerr\\tFp\\tFm\\tUp\\tUm\\n\")\n",
    "    for i in range(0,10):\n",
    "        f.write('%d'%(i))\n",
    "f.close()"
   ]
  },
  {
   "cell_type": "code",
   "execution_count": null,
   "id": "7732dc4a",
   "metadata": {},
   "outputs": [],
   "source": []
  },
  {
   "cell_type": "code",
   "execution_count": null,
   "id": "a8e589f3",
   "metadata": {},
   "outputs": [],
   "source": []
  },
  {
   "cell_type": "code",
   "execution_count": null,
   "id": "79301357",
   "metadata": {},
   "outputs": [],
   "source": []
  },
  {
   "cell_type": "code",
   "execution_count": null,
   "id": "53dafb50",
   "metadata": {},
   "outputs": [],
   "source": []
  },
  {
   "cell_type": "code",
   "execution_count": null,
   "id": "60a84b07",
   "metadata": {},
   "outputs": [],
   "source": []
  },
  {
   "cell_type": "code",
   "execution_count": null,
   "id": "de3229db",
   "metadata": {},
   "outputs": [],
   "source": []
  },
  {
   "cell_type": "code",
   "execution_count": null,
   "id": "391dedf4",
   "metadata": {},
   "outputs": [],
   "source": []
  },
  {
   "cell_type": "code",
   "execution_count": null,
   "id": "8b8a7531",
   "metadata": {},
   "outputs": [],
   "source": []
  },
  {
   "cell_type": "code",
   "execution_count": null,
   "id": "2795af46",
   "metadata": {},
   "outputs": [],
   "source": []
  },
  {
   "cell_type": "code",
   "execution_count": null,
   "id": "4284a5bd",
   "metadata": {},
   "outputs": [],
   "source": []
  },
  {
   "cell_type": "code",
   "execution_count": null,
   "id": "a3d6474b",
   "metadata": {},
   "outputs": [],
   "source": []
  },
  {
   "cell_type": "code",
   "execution_count": null,
   "id": "1668013d",
   "metadata": {},
   "outputs": [],
   "source": []
  },
  {
   "cell_type": "code",
   "execution_count": null,
   "id": "a6d5ae11",
   "metadata": {},
   "outputs": [],
   "source": []
  },
  {
   "cell_type": "code",
   "execution_count": null,
   "id": "e8d630a5",
   "metadata": {},
   "outputs": [],
   "source": []
  }
 ],
 "metadata": {
  "kernelspec": {
   "display_name": "Python 3 (ipykernel)",
   "language": "python",
   "name": "python3"
  },
  "language_info": {
   "codemirror_mode": {
    "name": "ipython",
    "version": 3
   },
   "file_extension": ".py",
   "mimetype": "text/x-python",
   "name": "python",
   "nbconvert_exporter": "python",
   "pygments_lexer": "ipython3",
   "version": "3.8.18"
  }
 },
 "nbformat": 4,
 "nbformat_minor": 5
}
