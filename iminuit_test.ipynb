{
 "cells": [
  {
   "cell_type": "code",
   "execution_count": 3,
   "id": "d3bb13c0",
   "metadata": {},
   "outputs": [
    {
     "name": "stdout",
     "output_type": "stream",
     "text": [
      "0.13120588676919365 0.9777143715271484\n"
     ]
    },
    {
     "data": {
      "text/plain": [
       "<matplotlib.legend.Legend at 0x1208b3e20>"
      ]
     },
     "execution_count": 3,
     "metadata": {},
     "output_type": "execute_result"
    },
    {
     "data": {
      "image/png": "[encoded data removed]",
      "text/plain": [
       "<Figure size 432x288 with 1 Axes>"
      ]
     },
     "metadata": {
      "needs_background": "light"
     },
     "output_type": "display_data"
    }
   ],
   "source": [
    "# basic setup of the notebook\n",
    "from matplotlib import pyplot as plt\n",
    "import numpy as np\n",
    "\n",
    "# everything in iminuit is done through the Minuit object, so we import it\n",
    "from iminuit import Minuit\n",
    "\n",
    "# we also need a cost function to fit and import the LeastSquares function\n",
    "from iminuit.cost import LeastSquares\n",
    "def line(x,a,b):\n",
    "    return a+x*b\n",
    "\n",
    "# generate random toy data with random offsets in y\n",
    "np.random.seed(1)\n",
    "data_x = [1,2,3.2,4.3,5.4,6.5,7.4,8.8,9.9]\n",
    "data_yerr = 0.5  # could also be an array\n",
    "data_y = [1.1,2.1,3.1,4.4,5.5,6.4,7.7,8.5,9.8]\n",
    "#line(data_x, 1, 2) + data_yerr * np.random.randn(len(data_x))\n",
    "\n",
    "plt.errorbar(data_x,data_y,data_yerr,fmt=\"o\")\n",
    "least_squares = LeastSquares(data_x,data_y,data_yerr,line)\n",
    "m = Minuit(least_squares, a=0, b=0)  # starting values for α and β\n",
    "\n",
    "m.migrad()  # finds minimum of least_squares function\n",
    "m.hesse()   # accurately computes uncertainties\n",
    "\n",
    "print(*m.values)\n",
    "# draw data and fitted line\n",
    "plt.errorbar(data_x, data_y, data_yerr, fmt=\"o\", label=\"data\")\n",
    "fit_y=[]\n",
    "for xi in data_x:\n",
    "    fit_y.append(line(xi,*m.values))\n",
    "    \n",
    "plt.plot(data_x, fit_y, label=\"fit\")\n",
    "\n",
    "# display legend with some fit info\n",
    "fit_info = [\n",
    "    f\"$\\\\chi^2$ / $n_\\\\mathrm{{dof}}$ = {m.fval:.1f} / {len(data_x) - m.nfit}\",\n",
    "]\n",
    "for p, v, e in zip(m.parameters, m.values, m.errors):\n",
    "    fit_info.append(f\"{p} = ${v:.3f} \\\\pm {e:.3f}$\")\n",
    "\n",
    "plt.legend(title=\"\\n\".join(fit_info))"
   ]
  },
  {
   "cell_type": "code",
   "execution_count": 2,
   "id": "5b945a46",
   "metadata": {},
   "outputs": [
    {
     "ename": "ModuleNotFoundError",
     "evalue": "No module named 'numba_stats'",
     "output_type": "error",
     "traceback": [
      "\u001b[0;31m---------------------------------------------------------------------------\u001b[0m",
      "\u001b[0;31mModuleNotFoundError\u001b[0m                       Traceback (most recent call last)",
      "\u001b[0;32m<ipython-input-2-bf1b61a70c05>\u001b[0m in \u001b[0;36m<module>\u001b[0;34m\u001b[0m\n\u001b[1;32m      8\u001b[0m \u001b[0;31m# norm_pdf from numba_stats is a compiled function\u001b[0m\u001b[0;34m\u001b[0m\u001b[0;34m\u001b[0m\u001b[0;34m\u001b[0m\u001b[0m\n\u001b[1;32m      9\u001b[0m \u001b[0;31m# without a function signature, so we create one\u001b[0m\u001b[0;34m\u001b[0m\u001b[0;34m\u001b[0m\u001b[0;34m\u001b[0m\u001b[0m\n\u001b[0;32m---> 10\u001b[0;31m \u001b[0;32mfrom\u001b[0m \u001b[0mnumba_stats\u001b[0m \u001b[0;32mimport\u001b[0m \u001b[0mnorm_pdf\u001b[0m\u001b[0;34m,\u001b[0m \u001b[0mnorm_cdf\u001b[0m\u001b[0;34m\u001b[0m\u001b[0;34m\u001b[0m\u001b[0m\n\u001b[0m\u001b[1;32m     11\u001b[0m \u001b[0;34m\u001b[0m\u001b[0m\n\u001b[1;32m     12\u001b[0m \u001b[0mprint\u001b[0m\u001b[0;34m(\u001b[0m\u001b[0;34mf\"before {describe(norm_pdf)=}\"\u001b[0m\u001b[0;34m)\u001b[0m\u001b[0;34m\u001b[0m\u001b[0;34m\u001b[0m\u001b[0m\n",
      "\u001b[0;31mModuleNotFoundError\u001b[0m: No module named 'numba_stats'"
     ]
    }
   ],
   "source": [
    "from iminuit import Minuit\n",
    "from iminuit.cost import UnbinnedNLL\n",
    "from iminuit.util import make_with_signature, describe\n",
    "from matplotlib import pyplot as plt\n",
    "import numpy as np\n",
    "\n",
    "\n",
    "# norm_pdf from numba_stats is a compiled function\n",
    "# without a function signature, so we create one\n",
    "from numba_stats import norm_pdf, norm_cdf\n",
    "\n",
    "print(f\"before {describe(norm_pdf)=}\")\n",
    "normal_pdf = make_with_signature(norm_pdf, \"x\", \"μ\", \"σ\")\n",
    "print(f\"after  {describe(normal_pdf)=}\")\n",
    "\n",
    "# generate two data sets which are fitted simultaneously\n",
    "rng = np.random.default_rng(1)\n",
    "width = 2.0\n",
    "data1 = rng.normal(0, width, size=1000)\n",
    "data2 = rng.normal(5, width, size=1000)\n",
    "\n",
    "# rename non-shared parameters so that they are fitted independently\n",
    "pdf1 = make_with_signature(normal_pdf, μ='μ_1')\n",
    "pdf2 = make_with_signature(normal_pdf, μ='μ_2')\n",
    "\n",
    "# combine two log-likelihood functions by adding them\n",
    "lh = UnbinnedNLL(data1, pdf1) + UnbinnedNLL(data2, pdf2)\n",
    "\n",
    "print(f\"{describe(lh)=}\")\n",
    "\n",
    "\n",
    "\n",
    "def plot(cost, xe, minuit, ax, **style):\n",
    "    signature = describe(cost)\n",
    "    data = cost.data\n",
    "\n",
    "    values = minuit.values[signature]\n",
    "    errors = minuit.errors[signature]\n",
    "\n",
    "    cx = (xe[1:] + xe[:-1]) / 2\n",
    "\n",
    "    ym = np.diff(norm_cdf(xe, *values)) * np.sum(w)\n",
    "    t = []\n",
    "    for n, v, e in zip(signature, values, errors):\n",
    "        t.append(f\"${n} = {v:.3f} ± {e:.3f}$\")\n",
    "    ax.plot(cx, ym, label=\"\\n\".join(t), **style)\n",
    "\n",
    "m = Minuit(lh, μ_1=1, μ_2=2, σ=1)\n",
    "\n",
    "fig, ax = plt.subplots(1, 2, figsize=(14, 5))\n",
    "\n",
    "hists = [np.histogram(lhi.data, bins=50) for lhi in lh]\n",
    "\n",
    "# draw data and model with initial parameters\n",
    "for lhi, (w, xe), axi in zip(lh, hists, ax):\n",
    "    cx = (xe[1:] + xe[:-1]) / 2\n",
    "    axi.errorbar(cx, w, np.sqrt(w), fmt=\"ok\", capsize=0, zorder=0)\n",
    "    plot(lhi, xe, m, axi, ls=\"--\")\n",
    "\n",
    "m.migrad()\n",
    "\n",
    "# draw model with fitted parameters\n",
    "for lhi, (w, xe), axi in zip(lh, hists, ax):\n",
    "    plot(lhi, xe, m, axi)\n",
    "    axi.legend()\n",
    "\n"
   ]
  },
  {
   "cell_type": "code",
   "execution_count": 3,
   "id": "96e811e0",
   "metadata": {},
   "outputs": [
    {
     "name": "stdout",
     "output_type": "stream",
     "text": [
      "['x', 'a', 'b', 'Ax']\n",
      "['x', 'a', 'b', 'Ax1']\n",
      "1.4379586381674951 2.0933998229332462 1.1 1.2\n"
     ]
    },
    {
     "data": {
      "text/plain": [
       "[<matplotlib.lines.Line2D at 0x12cdcfd00>]"
      ]
     },
     "execution_count": 3,
     "metadata": {},
     "output_type": "execute_result"
    },
    {
     "data": {
      "image/png": "[encoded data removed]",
      "text/plain": [
       "<Figure size 432x288 with 1 Axes>"
      ]
     },
     "metadata": {
      "needs_background": "light"
     },
     "output_type": "display_data"
    }
   ],
   "source": [
    "from iminuit import Minuit\n",
    "from iminuit.cost import UnbinnedNLL\n",
    "from iminuit.util import make_with_signature, describe\n",
    "from matplotlib import pyplot as plt\n",
    "import numpy as np\n",
    "\n",
    "from iminuit.cost import LeastSquares\n",
    "def line(x,a,b,Ax):\n",
    "    return a+x*b*Ax\n",
    "\n",
    "np.random.seed(1)\n",
    "data_x = np.linspace(0, 1, 10)\n",
    "data_yerr = 0.1  # could also be an array\n",
    "data_y = line(data_x, 1, 2,1.1) + data_yerr * np.random.randn(len(data_x))\n",
    "data_yerr2 = 0.1\n",
    "data_y2 = line(data_x,2,2.2,1.1)+data_yerr2 * np.random.randn(len(data_x))\n",
    "plt.errorbar(data_x,data_y,data_yerr)\n",
    "plt.errorbar(data_x,data_y2,data_yerr2)\n",
    "print(describe(line))\n",
    "Ax1 = make_with_signature(line,Ax = 'Ax1')\n",
    "Ax2 = make_with_signature(line,Ax = 'Ax2')\n",
    "print(describe(Ax1))\n",
    "#least_squares = LeastSquares(data_x,data_y,data_yerr,line)+LeastSquares(data_x,data_y2,data_yerr2,line)\n",
    "least_squares = LeastSquares(data_x,data_y,data_yerr,Ax1)+LeastSquares(data_x,data_y2,data_yerr2,Ax2)\n",
    "\n",
    "m = Minuit(least_squares, a=1, b=1,Ax1 = 1.1,Ax2 = 1.2)\n",
    "m.fixed[\"Ax1\"] = True\n",
    "m.fixed[\"Ax2\"] = True\n",
    "m.migrad()\n",
    "\n",
    "m.hesse() \n",
    "print(*m.values)\n",
    "plt.plot(data_x, line(data_x, m.values[0],m.values[1],m.values[2]), label=\"fit\")\n",
    "plt.plot(data_x, line(data_x, m.values[0],m.values[1],m.values[3]), label=\"fit\")\n"
   ]
  },
  {
   "cell_type": "code",
   "execution_count": null,
   "id": "b45d796b",
   "metadata": {},
   "outputs": [],
   "source": []
  },
  {
   "cell_type": "code",
   "execution_count": null,
   "id": "3ad96e31",
   "metadata": {},
   "outputs": [],
   "source": []
  }
 ],
 "metadata": {
  "kernelspec": {
   "display_name": "Python 3 (ipykernel)",
   "language": "python",
   "name": "python3"
  },
  "language_info": {
   "codemirror_mode": {
    "name": "ipython",
    "version": 3
   },
   "file_extension": ".py",
   "mimetype": "text/x-python",
   "name": "python",
   "nbconvert_exporter": "python",
   "pygments_lexer": "ipython3",
   "version": "3.9.6"
  }
 },
 "nbformat": 4,
 "nbformat_minor": 5
}
