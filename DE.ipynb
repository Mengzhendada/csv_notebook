{
 "cells": [
  {
   "cell_type": "code",
   "execution_count": 1,
   "id": "b92601db",
   "metadata": {},
   "outputs": [],
   "source": [
    "import json\n",
    "import matplotlib.pyplot as plt\n",
    "import numpy as np"
   ]
  },
  {
   "cell_type": "code",
   "execution_count": 31,
   "id": "8017cf9c",
   "metadata": {},
   "outputs": [
    {
     "name": "stdout",
     "output_type": "stream",
     "text": [
      "[0.99193466]\n"
     ]
    },
    {
     "name": "stderr",
     "output_type": "stream",
     "text": [
      "/var/folders/ll/8_2_l77j4yl2zjb6stl8d9b00000gn/T/ipykernel_74002/2756787046.py:24: MatplotlibDeprecationWarning: Case-insensitive properties were deprecated in 3.3 and support will be removed two minor releases later\n",
      "  plt.scatter(rungroups,aero_effs,Color='black')\n"
     ]
    },
    {
     "data": {
      "text/plain": [
       "<matplotlib.legend.Legend at 0x12c4cb100>"
      ]
     },
     "execution_count": 31,
     "metadata": {},
     "output_type": "execute_result"
    },
    {
     "data": {
      "image/png": "[encoded data removed]",
      "text/plain": [
       "<Figure size 432x288 with 1 Axes>"
      ]
     },
     "metadata": {
      "needs_background": "light"
     },
     "output_type": "display_data"
    }
   ],
   "source": [
    "with open('runs_info_rungroup.json') as j_DE:\n",
    "    CSV_DE = json.load(j_DE)\n",
    "fit = plt.figure()\n",
    "rungroups = []\n",
    "aero_effs = []\n",
    "aero_eff_errs = []\n",
    "for key_RunGroup,RunGroup_values in CSV_DE.items():\n",
    "    RunGroup = float(key_RunGroup)\n",
    "    for key_RunNumber,RunNumber_values in RunGroup_values.items():\n",
    "        RunNumber = float(key_RunNumber)\n",
    "        #print(RunNumber)\n",
    "        if \"SHMS_aero_DE_neg\" in RunNumber_values:\n",
    "            \n",
    "            aero_eff = float(RunNumber_values[\"SHMS_aero_DE_neg\"])\n",
    "            aero_eff_err = float(RunNumber_values[\"SHMS_aero_DE_neg_err\"])\n",
    "            rungroups.append(RunGroup)\n",
    "            aero_effs.append(aero_eff)\n",
    "            aero_eff_errs.append(aero_eff_err)\n",
    "            #print(aero_eff)\n",
    "            #plt.scatter(RunGroup,aero_eff,Color='black')\n",
    "            #plt.errorbar(RunGroup,aero_eff,aero_eff_err,fmt='bo')\n",
    "            #plt.ylim(0.98,1.0)\n",
    "plt.ylim(0.98,1.0)\n",
    "plt.scatter(rungroups,aero_effs,Color='black')\n",
    "aero_eff_fit = np.polyfit(rungroups,aero_effs,0)\n",
    "print(aero_eff_fit)\n",
    "plt.plot([0,580],[aero_eff_fit,aero_eff_fit],'k-',label = aero_eff_fit)\n",
    "plt.legend()"
   ]
  },
  {
   "cell_type": "code",
   "execution_count": null,
   "id": "27aafbf4",
   "metadata": {},
   "outputs": [],
   "source": []
  },
  {
   "cell_type": "code",
   "execution_count": null,
   "id": "3e468525",
   "metadata": {},
   "outputs": [],
   "source": []
  }
 ],
 "metadata": {
  "kernelspec": {
   "display_name": "Python 3 (ipykernel)",
   "language": "python",
   "name": "python3"
  },
  "language_info": {
   "codemirror_mode": {
    "name": "ipython",
    "version": 3
   },
   "file_extension": ".py",
   "mimetype": "text/x-python",
   "name": "python",
   "nbconvert_exporter": "python",
   "pygments_lexer": "ipython3",
   "version": "3.9.6"
  }
 },
 "nbformat": 4,
 "nbformat_minor": 5
}
