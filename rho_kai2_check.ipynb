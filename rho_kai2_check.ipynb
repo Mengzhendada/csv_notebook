{
 "cells": [
  {
   "cell_type": "code",
   "execution_count": 1,
   "id": "2bd8554b",
   "metadata": {},
   "outputs": [],
   "source": [
    "import numpy as np\n",
    "import matplotlib.pyplot as plt"
   ]
  },
  {
   "cell_type": "code",
   "execution_count": 2,
   "id": "aa835f40",
   "metadata": {},
   "outputs": [],
   "source": [
    "file_rho = open('rho_sub_kai2.txt','r')"
   ]
  },
  {
   "cell_type": "code",
   "execution_count": 3,
   "id": "db72214a",
   "metadata": {},
   "outputs": [],
   "source": [
    "lines_list = file_rho.readlines()\n",
    "data_rho = np.loadtxt(\"rho_sub_kai2.txt\")\n",
    "#data_rho"
   ]
  },
  {
   "cell_type": "code",
   "execution_count": 4,
   "id": "566ab59c",
   "metadata": {},
   "outputs": [],
   "source": [
    "rho_as = []\n",
    "kai2_1 = []\n",
    "kai2_2 = []\n",
    "kai2_3 = []\n",
    "kai2_sum = []#sum of three Q2\n",
    "kai2_all = []#kai2 for fitting simultanuously \n",
    "for n in range(len(data_rho[:,0])):\n",
    "    rho_as.append(data_rho[n,0])\n",
    "    kai2_1.append(data_rho[n,1])\n",
    "    kai2_2.append(data_rho[n,2])\n",
    "    kai2_3.append(data_rho[n,3])\n",
    "    kai2_sum.append((data_rho[n,1]+data_rho[n,2]+data_rho[n,3])/3)\n",
    "    kai2_all.append(data_rho[n,4])"
   ]
  },
  {
   "cell_type": "code",
   "execution_count": 5,
   "id": "04f23204",
   "metadata": {},
   "outputs": [
    {
     "data": {
      "text/plain": [
       "Text(0, 0.5, '$\\\\kappa^2$')"
      ]
     },
     "execution_count": 5,
     "metadata": {},
     "output_type": "execute_result"
    },
    {
     "data": {
      "image/png": "[encoded data removed]",
      "text/plain": [
       "<Figure size 432x288 with 1 Axes>"
      ]
     },
     "metadata": {
      "needs_background": "light"
     },
     "output_type": "display_data"
    }
   ],
   "source": [
    "plt.plot(rho_as,kai2_sum,\"bo\",label = \"average\")\n",
    "plt.plot(rho_as,kai2_1,\"ko\",label = \"4\")\n",
    "plt.plot(rho_as,kai2_2,\"mo\",label = \"4.75\")\n",
    "plt.plot(rho_as,kai2_3,\"ro\",label = \"5.5\")\n",
    "plt.legend()\n",
    "plt.xlabel(\"rho sub param\")\n",
    "plt.ylabel(r\"$\\kappa^2$\")"
   ]
  },
  {
   "cell_type": "code",
   "execution_count": 7,
   "id": "4d86ea35",
   "metadata": {
    "scrolled": true
   },
   "outputs": [
    {
     "data": {
      "text/plain": [
       "Text(0, 0.5, '$\\\\chi^2$')"
      ]
     },
     "execution_count": 7,
     "metadata": {},
     "output_type": "execute_result"
    },
    {
     "data": {
      "image/png": "[encoded data removed]",
      "text/plain": [
       "<Figure size 432x288 with 1 Axes>"
      ]
     },
     "metadata": {
      "needs_background": "light"
     },
     "output_type": "display_data"
    }
   ],
   "source": [
    "plt.plot(rho_as,kai2_all,\"bo\",label = \"all\")\n",
    "plt.legend()\n",
    "plt.xlabel(\"rho sub param\")\n",
    "plt.ylabel(r\"$\\chi^2$\")"
   ]
  },
  {
   "cell_type": "code",
   "execution_count": null,
   "id": "5301f40b",
   "metadata": {},
   "outputs": [],
   "source": []
  },
  {
   "cell_type": "code",
   "execution_count": null,
   "id": "3b8d6b54",
   "metadata": {},
   "outputs": [],
   "source": []
  },
  {
   "cell_type": "code",
   "execution_count": null,
   "id": "07bf9614",
   "metadata": {},
   "outputs": [],
   "source": []
  },
  {
   "cell_type": "code",
   "execution_count": null,
   "id": "8fa206cb",
   "metadata": {},
   "outputs": [],
   "source": []
  },
  {
   "cell_type": "code",
   "execution_count": null,
   "id": "1121cb0d",
   "metadata": {},
   "outputs": [],
   "source": []
  }
 ],
 "metadata": {
  "kernelspec": {
   "display_name": "Python 3 (ipykernel)",
   "language": "python",
   "name": "python3"
  },
  "language_info": {
   "codemirror_mode": {
    "name": "ipython",
    "version": 3
   },
   "file_extension": ".py",
   "mimetype": "text/x-python",
   "name": "python",
   "nbconvert_exporter": "python",
   "pygments_lexer": "ipython3",
   "version": "3.9.6"
  }
 },
 "nbformat": 4,
 "nbformat_minor": 5
}
